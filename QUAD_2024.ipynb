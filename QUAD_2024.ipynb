{
  "nbformat": 4,
  "nbformat_minor": 0,
  "metadata": {
    "colab": {
      "provenance": [],
      "collapsed_sections": [
        "RjL1JxwWtyRY"
      ],
      "authorship_tag": "ABX9TyOPQzTi1yh/br86LrYlSM1L",
      "include_colab_link": true
    },
    "kernelspec": {
      "name": "python3",
      "display_name": "Python 3"
    },
    "language_info": {
      "name": "python"
    }
  },
  "cells": [
    {
      "cell_type": "markdown",
      "metadata": {
        "id": "view-in-github",
        "colab_type": "text"
      },
      "source": [
        "<a href=\"https://colab.research.google.com/github/worldsaverr/learning_2024_2025/blob/main/QUAD_2024.ipynb\" target=\"_parent\"><img src=\"https://colab.research.google.com/assets/colab-badge.svg\" alt=\"Open In Colab\"/></a>"
      ]
    },
    {
      "cell_type": "markdown",
      "source": [
        "# **PS_LM_WD_BS_NF** Streaks to achieve QUADS\n",
        "\n",
        "1. Plan & Sleep -\n",
        "  * Sleep 7 hours without any gadget except iwatch. Biased towards sleep early get up early 9:30 PM to 4:30 AM\n",
        "  * Plan in detail tomorrow and running next 7 days\n",
        "2. Learn & Media  -\n",
        "  * 6 hours with vipassana focus.\n",
        "  * Document every active learning audio (Dhamma, Libby) and video (Moocs, YT)\n",
        "3. Walk & Duolingo -\n",
        "  * Walk 10,000 steps.\n",
        "  * Duolingo daily streak Chinese and Spanish\n",
        "4. Bath & Stum - Daily\n",
        "5. Network & Food-\n",
        "  * Network: 100% vipassana interactions with Family, friends, and network\n",
        "  * Food:\n",
        "    * Document everything you eat (max 2000 calories/day) in 4 images: 3 meals, 1 snack/day and 3L water.\n",
        "    * No: processed food, beverages, and outside food, only exception for outside food is while networking and while traveling\n",
        "    * Only: WholeFood, Organic, 75% Fruits & Vegetables and 25% Non-Veg & Dairy"
      ],
      "metadata": {
        "id": "wU5ctyhLu9Dh"
      }
    },
    {
      "cell_type": "markdown",
      "source": [
        "Common Emojis for reference: ✅ 🔴 🟠 1️⃣ 2️⃣ 3️⃣ 4️⃣ 5️⃣ 6️⃣ 7️⃣ 8️⃣ 9️⃣ 0️⃣ ☸️ 🧘👷🏻⚠️\n",
        "\n"
      ],
      "metadata": {
        "id": "YwZl3B53pFpe"
      }
    },
    {
      "cell_type": "markdown",
      "source": [
        "## Plot Streaks function"
      ],
      "metadata": {
        "id": "RjL1JxwWtyRY"
      }
    },
    {
      "cell_type": "code",
      "source": [
        "%%capture\n",
        "!pip install calplot\n",
        "import pandas as pd\n",
        "import calplot\n",
        "import logging\n",
        "import matplotlib.pyplot as plt\n",
        "from time import strptime\n",
        "from datetime import date\n",
        "\n",
        "def streaks_func(dates_dict):\n",
        "  def get_date_list(dates_dict):\n",
        "    date_list = []\n",
        "    for year, months_of_the_year in dates_dict.items():\n",
        "        for month, dates_list in months_of_the_year.items():\n",
        "            month_no = strptime(month.title(), '%b').tm_mon\n",
        "            for items in dates_list:\n",
        "              if items.isdigit():\n",
        "                date_list.append(date(year, month_no, int(items)))\n",
        "              else:\n",
        "                latest_streak_len = 0\n",
        "                for dt in range(int(items.split(\"-\")[0]), int(items.split(\"-\")[1])+1):\n",
        "                  latest_streak_len += 1\n",
        "                  date_list.append(date(year, month_no, dt))\n",
        "    return date_list, latest_streak_len\n",
        "\n",
        "  date_list, latest_streak_len = get_date_list(dates_dict)\n",
        "\n",
        "  def plot_streaks(date_list, latest_streak_len):\n",
        "    logging.getLogger('matplotlib.font_manager').setLevel(logging.ERROR)\n",
        "    idx = pd.Series(date_list, dtype='datetime64[ns]')\n",
        "    ts = pd.Series([1]* len(idx), index=idx)\n",
        "    calplot.calplot(ts, cmap= 'summer',suptitle = 'LastStreakMoreThanADay:{}'.format(latest_streak_len), colorbar=False)\n",
        "    return plt.show()\n",
        "\n",
        "  plot_streaks(date_list, latest_streak_len)"
      ],
      "metadata": {
        "id": "nCkvuwAYKHi1"
      },
      "execution_count": null,
      "outputs": []
    },
    {
      "cell_type": "markdown",
      "source": [
        "## Streak Input"
      ],
      "metadata": {
        "id": "hb4r-T2uuArM"
      }
    },
    {
      "cell_type": "code",
      "source": [
        "dates_dict = {\n",
        "    2024: {\n",
        "        'Jun': [ \"5-19\", \"21-23\"],\n",
        "        'Jul': [\"9\", \"11-12\", \"18-19\",\"25\",\"27\",\"29\"]\n",
        "    }\n",
        "}\n",
        "streaks_func(dates_dict)"
      ],
      "metadata": {
        "colab": {
          "base_uri": "https://localhost:8080/",
          "height": 197
        },
        "id": "Mf_o1ej0PH56",
        "outputId": "5e576c6c-bcc9-4d6a-e0cf-66f8f573a250"
      },
      "execution_count": null,
      "outputs": [
        {
          "output_type": "display_data",
          "data": {
            "text/plain": [
              "<Figure size 1000x170 with 1 Axes>"
            ],
            "image/png": "[encoded data removed]"
          },
          "metadata": {}
        }
      ]
    },
    {
      "cell_type": "markdown",
      "source": [
        "**Aug 13, 2024**  \n",
        "\n",
        "PS_LM_WD_BS_FN|Status|Description\n",
        "--|--|--|\n",
        "Plan|👷🏻|\n",
        "Sleep|👷🏻|\n",
        "Learn|👷🏻|\n",
        "Media|👷🏻|\n",
        "Walk|✅| 10K in the after noon while nanny taking care of my son\n",
        "Duolingo|✅|Morning\n",
        "Bath & Stum|✅| At 6pm after feeding and put my son to bed\n",
        "Network|✅|Discussed with Nanny her weight loss story from 250lbs to 135lbs\n",
        "Food|✅| 855 + 560 + 670 + 590 = 2625 ⚠️ Exceeding 2000 calories hit breaks and ate processed food and tea\n",
        "||**Meal1:** 10:30 AM 3 Avocado toast  drynuts butter, plum, mango and orange, boiled moong bean half cup (330 + 150 + 100 + 50 + 100 + 25 + 100 = 855)\n",
        "    || **Meal2:** Boiled rice, curd, half boiled omlette, tindora sabji and Duet(200 + 30 + 100 + 100 + 130 = 560)\n",
        "    || **Meal3:** Bread 2 slice, avocado toast, moong bean banana drink, dry fruits (220 + 150 + 200 + 100 = 670)\n",
        "    || **Snack4:** Junk at office 2 packs of potatoe chips, banana, tea (190 +190 + 110 +100 = 590)![IMG_2024-08-13-221547.jpg](data:image/jpeg;base64,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)\n"
      ],
      "metadata": {
        "id": "J8hQqUPW9rWl"
      }
    },
    {
      "cell_type": "markdown",
      "source": [
        "**Aug 12 2024**  \n",
        "\n",
        "PS_LM_WD_BS_FN|Status|Description\n",
        "--|--|--|\n",
        "Plan|✅|planned first attempt\n",
        "Sleep|✅|WIP\n",
        "Learn|🟠|Came to office to study at 9PM so 2.5 hours out of 6\n",
        "Media|✅|[How to cut ypur baby nails](https://youtu.be/w-OMcXNebgE?si=PssDM8zetP1oS3lU)\n",
        "Walk|✅|Evening with family 8PM\n",
        "Duolingo|✅|Morning\n",
        "Bath|✅|12PM when baby was sleeping\n",
        "Stum|✅|12PM\n",
        "Food|🔴|Bad continued craving went to Idliexpress with family\n",
        "Network|✅|Ate with family\n",
        "\n",
        "\n",
        "**TO**\n",
        "# **PS_LM_WD_BS_NF** Streaks to achieve QUADS\n",
        "\n",
        "1. Plan & Sleep -\n",
        "  * Sleep 7 hours without any gadget except iwatch. Biased towards sleep early get up early 9:30 PM to 4:30 AM\n",
        "  * Plan in detail tomorrow and running next 7 days\n",
        "2. Learn & Media  -\n",
        "  * 6 hours with vipassana focus.\n",
        "  * Document every active learning audio (Dhamma, Libby) and video (Moocs, YT)\n",
        "3. Walk & Duolingo -\n",
        "  * Walk 10,000 steps.\n",
        "  * Duolingo daily streak Chinese and Spanish\n",
        "4. Bath & Stum - Daily\n",
        "5. Network & Food-\n",
        "  * Network: 100% vipassana interactions with Family, friends, and network\n",
        "  * Food:\n",
        "    * Document everything you eat (max 2000 calories/day) in 4 images: 3 meals, 1 snack/day and 3L water.\n",
        "    * No: processed food, beverages, and outside food, only exception for outside food is while networking and while traveling\n",
        "    * Only: WholeFood, Organic, 75% Fruits & Vegetables and 25% Non-Veg & Dairy\n",
        "\n",
        "**FROM**\n",
        "# **P**s_**L**m_**W**d_**B**s_**F**n Streaks to achieve QUADS\n",
        "\n",
        "1. Plan tomorrow & Sleep - 7 hours without any gadget except iwatch. Biased towards sleep early get up early 9:30 PM to 4:30 AM\n",
        "2. Learn & Media  - 6 hours with vipassana focus.\n",
        "  * Document every active learning audio (Dhamma, Libby) and video (Moocs, YT)\n",
        "3. Walk & Duolingo - 10,000 steps.\n",
        "4. Bath & Stum - Daily\n",
        "5. Food & Network- 3 eating session After every 2 hours of Learning session.\n",
        "  * Biased: Organic WholeFood, Fruits & Vegetables, HomeCooked, OMAD,   \n",
        "  * Must: 3L water, No processed food, No tea/coffee use sprout drink instead, Restaurant food only with friends and while traveling\n",
        "  * With Family, friends and network always interact with 100% vipassana way\n",
        "\n",
        "\n"
      ],
      "metadata": {
        "id": "64HKKGVXQifu"
      }
    },
    {
      "cell_type": "markdown",
      "source": [
        "**Aug 08,09,10,11 2024**  \n",
        "\n",
        "Plan|Sleep|Learn|Media|Walk|Duolingo|Bath|Stum|Food|Network|\n",
        "-|-|-|-|-|-|-|-|-|-|\n",
        "🔴|✅|🔴|✅|✅|✅|✅|✅|🔴|✅|"
      ],
      "metadata": {
        "id": "pU3wCkXaBWca"
      }
    },
    {
      "cell_type": "markdown",
      "source": [
        "**Aug 07, 2024**\n",
        "1. Plan Tomorrow & Sleep 🟠-\n",
        "2. Learn & Media 🟠-\n",
        "3. Walk & Duolingo ✅- Walked in the morning 10 to 11AM\n",
        "4. Bath & Stum -\n",
        "5. Food & Network 🟠-\n",
        "  * Had avocado toast and sprouts hot beverage\n",
        "  * Was setting up the master bedroom for inlaws ate 1 Traditional Madeleines and 1 Mango coconut thin nonnies\n",
        "  * had fish fry salmon, boiled rice, dal and curd for lunch\n",
        "  *"
      ],
      "metadata": {
        "id": "d4ehAmNwQyoI"
      }
    },
    {
      "cell_type": "markdown",
      "source": [
        "**Aug 06, 2024**\n",
        "1. Plan Tomorrow & Sleep 🟠- Didnt plan for tomorrow but slept for 7 hours. Since was doing room setup for inlaws and baby proofing the house\n",
        "2. Learn & Media 🟠- Media awesome learning couldnt do 6 hours just 3 hours\n",
        "3. Walk & Duolingo ✅- Walked doing Dulingo from 1PM to 2:15 PM\n",
        "4. Bath & Stum - ✅ Tool bath immediately after the bath\n",
        "5. Food & Network 🟠- Ate two meals before 2hrs of study\n",
        "  * Ate breakfast at 10:45AM after cleaning the house for the baby for 3 hours: Bread, Avocado, muskmelon and sprout juice\n",
        "  * Ate lunch after the bath: Dal, Traditional Madeleines, Veg fried rice, orange half and curd one spoon\n",
        "  * Ate Dinner fish fry, fruit salad with icecream, dal and boiled rice\n",
        "  * 2 Traditional Madeleines and 1 Mango coconut thin nonnies  "
      ],
      "metadata": {
        "id": "oeK-j8RueDPX"
      }
    },
    {
      "cell_type": "markdown",
      "source": [
        "**Aug 05, 2024**\n",
        "1. Plan Tomorrow & Sleep 🔴 - Slept for 4 hours but didn't plan for tomorrow  \n",
        "2. Learn & Media 🔴- Studied only for 4.25 hours\n",
        "3. Walk & Duolingo -✅ Walked 10K did Duolingo. Had vipassana conversatoin with Friend who I met on walk and spoke to a good Friend on call after a long time. Thanks to this plan PS_LM_Wd_Bs_Fn\n",
        "4. Bath & Stum ✅-\n",
        "5. Food & Network 🟠- Ate home cooked food but not after every 2 hours of study\n",
        "\n",
        "**TO**\n",
        "# **P**s_**L**m_**W**d_**B**s_**F**n Streaks to achieve QUADS\n",
        "\n",
        "1. Plan tomorrow & Sleep - 7 hours without any gadget except iwatch. Biased towards sleep early get up early 9:30 PM to 4:30 AM\n",
        "2. Learn & Media  - 6 hours with vipassana focus.\n",
        "  * Document every active learning audio (Dhamma, Libby) and video (Moocs, YT)\n",
        "3. Walk & Duolingo - 10,000 steps.\n",
        "4. Bath & Stum - Daily\n",
        "5. Food & Network- 3 eating session After every 2 hours of Learning session.\n",
        "  * Biased: Organic WholeFood, Fruits & Vegetables, HomeCooked, OMAD,   \n",
        "  * Must: 3L water, No processed food, No tea/coffee use sprout drink instead, Restaurant food only with friends and while traveling\n",
        "  * With Family, friends and network always interact with 100% vipassana way\n",
        "\n",
        "**FROM**\n",
        "# SLWNFnM_Streaks to achieve QUADS\n",
        "\n",
        "1. Sleep - 7 hours without any gadget except iwatch. Biased towards sleep early get up early 9:30 PM to 4:30 AM\n",
        "2. Learn  - 6 hours with vipassana focus.\n",
        "3. Walk - 10,000 steps.\n",
        "4. Norp - Daily jalaka only\n",
        "5. Food & Netowrk- After every 2 hours of Learning session.  \n",
        "  * Biased towards Organic WholeFood, Fruits & Vegetables, HomeCooked,\n",
        "  * 3 litres of water, No processed food, No tea and coffee use sprout drink instead, Restaurant food only with friends and while traveling\n",
        "  * Biased towards OMAD. Three eating sessions in a day\n",
        "  * Biased towards having food with someone, whatsapp and linkedin networking.\n",
        "6. Media - Document every audio and video consumed.\n",
        "  * Audiobooks Libby\n",
        "  * Active learning Videos: MOOCS, YT videos for interview prep only  \n",
        "  * Media forwarded by friends and family\n",
        "  * Phone designed for hyper productivity only\n",
        "  * Videos from subscribed YT Channels only"
      ],
      "metadata": {
        "id": "3Pg4Mw2Egogz"
      }
    },
    {
      "cell_type": "markdown",
      "source": [
        "**Aug 04, 2024**\n",
        "1. Sleep 🔴:\n",
        "2. Learn 🔴:\n",
        "3. Walk ✅:\n",
        "4. Norp 🔴:\n",
        "5. Food 🟠:\n",
        "6. Media 🟠 229 mins: ~ 4 hours:\n",
        "  * 95 mins NF : The Out-Laws\n",
        "  * 31 mins YT: John Oliver West [Bank](https://youtu.be/NqK3_n6pdDY?si=FR50DFoVkPMbYOLv)\n",
        "  * 30 mins YT: The Print Nirmala [Sitharaman](https://youtu.be/41yXjtIc8m8?si=Ud8CqMWPU5NiLfPv)\n",
        "  * 50 mins YT: Gusto CEO Josh Reeves [TWIST](https://youtu.be/QvhvdUAPkDY?si=pFdHQC2MNSmzLEIo)\n",
        "  * 3 mins YT: Turkish olympics shooting [compet](https://youtu.be/LvXwXKjIP0A?si=PnnzAMckIQhZi_Yn)\n",
        "  * 16 mins YT: Cricket memes and Ambani [wedding](https://youtu.be/D6OxfGtb6lg?si=5s70a2qQBZYuMMxP)\n",
        "  * 4 mins YT: Inspiration Star Akyan: Celebrating freedom Through [Art](https://youtu.be/q1-bOwRaeO0?si=yHwXHWbO3cMZlXfx)\n",
        "  * 4 mins shorts YT: standup comedy 4 shorts\n"
      ],
      "metadata": {
        "id": "QE1MTSSl7lyW"
      }
    },
    {
      "cell_type": "markdown",
      "source": [
        "**Aug 03, 2024**\n",
        "1. Sleep 🔴:\n",
        "2. Learn 🔴:\n",
        "3. Walk ✅:\n",
        "4. Norp 🔴:\n",
        "5. Food 🟠:\n",
        "6. Media 🟠 ~ 4 hours:\n",
        "  * 160 mins NF: Glass Onion: A Knives Out Mystery\n",
        "  * 35 mins YT: Trump [NABJ](https://youtu.be/CNSGTxDC2WQ?si=_5AfXsP3yqdYzS_a)\n",
        "  * 4 mins shorts YT: standup comedy 4 shorts"
      ],
      "metadata": {
        "id": "F99o6AKy7gK8"
      }
    },
    {
      "cell_type": "markdown",
      "source": [
        "**Aug 02, 2024**\n",
        "1. Sleep 🔴:\n",
        "2. Learn 🔴:\n",
        "3. Walk 🔴:\n",
        "4. Norp 🔴:\n",
        "5. Food 🟠:\n",
        "6. Media 🟠: ~5 hours\n",
        "  * 95 mins NF: Irish [wish](https://youtu.be/HTmHtOSqHTk?si=YWg4HIVcvASDxaLM)\n",
        "  * 20 mins YT: TWIST $97 Billion VC [Panel](https://youtu.be/NVceHUqEoF0?si=PjPPK2SBMnw2UcZ9)\n",
        "  * 80 mins YT: All in [EP190](https://youtu.be/rj71DPhvpiE?si=Vk7qqQK8TLnP4eWP)\n",
        "  * 1 min YT: Baby boy climbing [stove](https://youtu.be/sovlC4339Wk?si=XF5KROu2Pls7Yz4g)\n",
        "  * 1 min YT: Studen spills [drink](https://youtu.be/ccKLKII3alg?si=UVDKP83OGTozHGDt)\n",
        "  * 60 mins YT: Elon musk Lex [Fridman](https://youtu.be/Kbk9BiPhm7o?si=WuLPE3u-XveUvHkq)"
      ],
      "metadata": {
        "id": "cO--ixim7dsP"
      }
    },
    {
      "cell_type": "markdown",
      "source": [
        "**Aug 01, 2024**\n",
        "1. Sleep ✅:\n",
        "2. Learn 🔴:\n",
        "3. Walk 🔴:\n",
        "4. Norp 🔴:\n",
        "5. Food 🟠:\n",
        "6. Media 🟠: ~ 7 hours\n",
        "  * 2 min YT: Women NZ rugby perfroms [Haka](https://youtu.be/EfXpLASd5gk?si=TcgZqwuUYUnQfn-d)\n",
        "  * 12 min YT:What is google actually [like](https://youtu.be/t78GXLHgGhk?si=tDHBGniclFp_z8_8)\n",
        "  * 12 min YT: Samsung galaxy [review](https://youtu.be/tYUC_Ni3lb4?si=9CF8NSkSKb-IWFCm)\n",
        "  * 1 min YT: Donald Trump hand [shake](https://youtu.be/U0LBawbGHJA?si=U4fmwiBTe8Vfbn5W)\n",
        "  * 120 mins NF: Hitman movie\n",
        "  * 2 min YT: Donald Trump handshake a diplomatic [powerplay](https://youtu.be/o8sqhdOaSX0?si=Enhcu55vHV94szBm)\n",
        "  * 30 mins YT: Staying on top of AI [Every](https://youtu.be/HHZFFdslU4g?si=VVmY2E45yAi5wDHp)\n",
        "  * 10 mins YT: Ani podcast [EP200](https://youtu.be/VZjxMN9pakk?si=q6N2cfLGKSnSK5X1)\n",
        "  * 10 mins YT: Jeoffrey [Hinton](https://youtu.be/n4IQOBka8bc?si=WGLLjzx8sxa6EoN1)\n",
        "  * 26 mins YT: The print Hamas [Chief](https://youtu.be/GRP4MSqi0Ao?si=A2ibo2eOH47fhP9f)\n",
        "  * 45 mins YT: Tiger belly Nutrition [rich](https://youtu.be/JOINLHcqvYw?si=HyQ2TqIxoajjTuW5)\n",
        "  * 10 mins YT: Joe Rogan talks about Khayla [Khun](https://youtu.be/0L2mMepOAwE?si=g84A-0zFPgk07qOF)\n",
        "  * 10 mins YT: Marques FBI declassified [story](https://youtu.be/_9prH7NFmLI?si=Pos0ZlthcKVBdHud)\n",
        "  * 8 mins YT: learning [Chinese](https://youtu.be/WU7OEX380Zs?si=JJAfznLjq69QokhU)\n",
        "  * 3 mins YT: Mark Zuck [chinese](https://youtu.be/HTmHtOSqHTk?si=YWg4HIVcvASDxaLM)\n",
        "  * 17 mins YT: Chinese [characters](https://youtu.be/NryURgnLdlw?si=Z6oRjrCmb2txV_O2)\n",
        "  * 73 mins YT Shorts: Oriental Pearl 40 videos, @yellowline flies 1video, @unwokeism 1 video, @nbcnews 1video, @dwarkeshpatel 1 video, @detectiveAJ 1video, @ANINewsIndia 1 video, @authenticconservative 1 video, @realamericasvoive 1 video, @JackGoodmanMD 10 videsos, Khylala 5 videos, Jor rogan 1 video, @reportnewsmedia 1 video, @theneonshoww 1 vodeo, @rattlesnake 1 video, @varunmayya 1 video, @motivationalvideo2.0 1 video, Brut india 1 video, @_achivesuccess 1 video, @intouchwithreality 1 video, @thepersistent 1 video\n",
        "\n"
      ],
      "metadata": {
        "id": "KP0mBjuN7Yiy"
      }
    },
    {
      "cell_type": "markdown",
      "source": [
        "**Jul 31, 2024**\n",
        "1. Sleep ✅:\n",
        "2. Learn 🔴:\n",
        "3. Walk ✅:\n",
        "4. Norp 🔴:\n",
        "5. Food 🟠:\n",
        "6. Media 🟠:\n",
        "  * 30 min YT: Elon musk X takeover [Video](https://www.youtube.com/live/tEkRY8TG2BU?si=CetJ3XN99X9tZWfy)\n",
        "  * 6 min YT: Joe Rogan Andrew Huberman [Scandal](https://youtu.be/Jld_OaBbrVU?si=qgitccU8VxmJgHhW)\n",
        "  * 20 min YT: Jordan Peterson Elon Musk [Interview](https://youtu.be/d8z2guJD9-g?si=XN3SuLCGjtgGat8W)\n",
        "  * 8 min YT: My son is dead Elon Musk Russell [Brand](https://youtu.be/_b__MBqmLG0?si=VQ6vgnazIBYejOiL)\n",
        "  * 13 min YT: Bill O Rielly John [Stewart](https://youtu.be/h7qZE4C_neo?si=wx7mzhr0YSEpc9g7)\n",
        "  * 8 min YT: Trevor Noah on Stphen [Colbert](https://youtu.be/b2ZX8DiT34U?si=PPPz0ISDJQrTbxzh)\n",
        "  * 2 min YT: John Oliver on Elon [Musk](https://youtu.be/_ZSBm4_0n68?si=f6xqgaaVLnkkgTnz)"
      ],
      "metadata": {
        "id": "G80VTdZd01gN"
      }
    },
    {
      "cell_type": "markdown",
      "source": [
        "**Jul 30, 2024**\n",
        "1. Sleep ✅:\n",
        "2. Learn 🟠:\n",
        "3. Walk ✅:\n",
        "4. Norp 🔴:\n",
        "5. Food 🟠:\n",
        "6. Media :\n",
        "  * 20 min YT: What's next [Nvidia](https://www.youtube.com/live/H0WxJ7caZQU?si=tMeanVSz_h2xn9Q7)\n",
        "  * 20 min YT: [TWIST](https://youtu.be/GRlAhsjwl5U?si=06El3yNkMTzr8Cku) The power of WEKA\n",
        "  * 55 min YT: Rahul Pandey Efficiency tips for [engineers](https://www.youtube.com/live/b33vqX74EcA?si=zTYXobBPhKpxezjw)\n"
      ],
      "metadata": {
        "id": "W3Gc68gY4FOI"
      }
    },
    {
      "cell_type": "markdown",
      "source": [
        "**Jul 29, 2024** 1️⃣\n",
        "1. Sleep ✅:\n",
        "2. Learn ✅: 6 hours. Went to office at 6PM and walked 10K till 7:20 PM and studied for 3.5 hours and came home and completed another 2.5 hours finishing at 3:30 AM\n",
        "3. Walk ✅: 10K listening to BG2 podcast and Nvidia Genseng and Mark zucks interview\n",
        "4. Norp ✅:\n",
        "5. Food 🟠:\n",
        "  * Had breakfast avocadi toast\n",
        "  * Had lunch boiled rice omlette\n",
        "  * Had 4 slice of bread and nuts butter one pack of chips and moong dal coffee in office\n",
        "  * came back home had gobi sabji, paneer curry and boiled rice for dinner\n",
        "6. Media 🟠:\n",
        "  * YT Air India customer case Gaurav Gupta [standup](https://youtu.be/NMkqtEEoN6U?si=-ewUC_w5FAHHT3nB), Son in [law](https://youtu.be/vABWkDVfhwc?si=lV9Y8zp8dt7QsNfd)\n",
        "  * YT Dhruv Rathee on Budget [2024](https://youtu.be/92cGK-pwgjY?si=-cwCxBZ_gvJC7tpL)\n",
        "  * YT Rahul Gandhi loksabha the [print](https://youtu.be/LRjOeBoiu4A?si=rOYAfeEB-JqRm1D3)\n",
        "  * YT BG2 [Episode 13](https://youtu.be/o9e1SDPc6Pc?si=1wvuTMDmZNqVLX2q)\n",
        "  * YT Nvidia Genseng MarkZuck [interview](https://youtu.be/w-cmMcMZoZ4?si=f1ImT9huxcx88y0F) and [Gensenge](https://www.youtube.com/live/H0WxJ7caZQU?si=DbALO176b6uNAwwW) interview\n"
      ],
      "metadata": {
        "id": "LJtxcdeO1htD"
      }
    },
    {
      "cell_type": "markdown",
      "source": [
        "**Jul 28, 2024**\n",
        "1. Sleep ✅:\n",
        "2. Learn : 1.5 hours before going for photo shoot of my Sun at beach\n",
        "3. Walk ✅:  \n",
        "4. Norp ✅:\n",
        "5. Food 🟠:\n",
        "  * Had Lunch at home boiled rice and omlette\n",
        "  * Had a Kind bar\n",
        "  * Had Dinner at Cheesecake Factory : Belaggio and red velvet cheesecake and fruit punch\n",
        "6. Media 🟠:\n",
        "  * YT Mark Zuck Llama3.1 [podcast](https://youtu.be/Vy3OkbtUa5k?si=7N91ywK3StT6w9fA)\n",
        "  * YT Software Engg in [2024](https://youtu.be/VpPPHDxR9aM?si=YiTarqndFS1qkSH7)"
      ],
      "metadata": {
        "id": "g8oSS9pFyBir"
      }
    },
    {
      "cell_type": "markdown",
      "source": [
        "**Jul 27, 2024** 1️⃣\n",
        "1. Sleep ✅: Slept 7 hours\n",
        "2. Learn ✅: 6 hours went on till 3AM\n",
        "3. Walk ✅: 10K evening with wife and son in the park.\n",
        "4. Norp ✅: After learn at 3 AM\n",
        "5. Food 🟠:\n",
        "  * Morning ate breakfast before starting to study Costco bread and avocado. Watched a standup for 3 hours and wasted time\n",
        "  * Ate left over biriyani from yesterday and boiled rice and dal after first 2 hour session of learn. After food went 10k walk\n",
        "  * came back did another 2 hours and did dinner boiled rice dal and chicken curry that cook had cooled and fruit salad\n",
        "  * Then after dinner did another 2 hours of learn\n",
        "6. Media 🟠:\n",
        "  * Duolingo Chinese\n",
        "  * YT Donald Trump and Joe Biden Kill [tony](https://youtu.be/ZgHR4ug866Q?si=17-J-WrGJSDy0C3Y)\n",
        "  * Libby Audiobook: Invent And Wander Jeff Bezos\n",
        "  * Libby Audiobook: Zucked\n",
        "  * Prime: Ryan Corner Standup"
      ],
      "metadata": {
        "id": "kt3eBWz6E4Bp"
      }
    },
    {
      "cell_type": "markdown",
      "source": [
        "**Jul 26, 2024**\n",
        "1. Sleep ✅: Slept 7 hours\n",
        "2. Learn 🟠: 2 hour\n",
        "3. Walk ✅: 10K\n",
        "4. Norp :\n",
        "5. Food 🔴:\n",
        "  * Went out to eat popmpano fish fry and biriyani at Brundavan restaurant\n",
        "6. Media✅:\n",
        "  * YT Yuval Noah [Harari](https://youtu.be/_eYDNcSYUCA?si=rcB4ELCC2-PISc_B)\n",
        "  * YT Nas Daily [Yuval](https://youtu.be/kZEUpph-RA4?si=oOFazPTSmXgmURG7)\n",
        "  * YT All In [EP189](https://youtu.be/UQBPUAgVuJA?si=DYAKoLfdUvA5QIoH)\n",
        "  * YT The print Naidu's white [paper](https://youtu.be/QsXTWvWeH4c?si=rTiomYuXKso42HkJ)    \n",
        "  * YT Google engineers on [Gemini](https://youtu.be/UUsVTEUfJAY?si=PHGQdEiqDVlE3HRn)\n",
        "  * YT Namanh Kapur How to get hired at [google](https://youtu.be/KB_7X3iIHQ4?si=F8cvqcyI2aOekhFD)\n",
        "  * YT Sundas Khalid How to get SWE at [Google](https://youtu.be/n8xMk-e_s1s?si=xqHAV8WE7vWoap3D), A day in the life of Googe DS and Why I left Data Eng for [DS](https://youtu.be/gOPohT1nT4k?si=jOqO3t7uz-R9X4fs)\n",
        "  * YT Jon your friend in [Tech](https://youtu.be/7G8xzbgRqUQ?si=UMdpUBMhmvhn4Ti7)\n",
        "  * YT The Kode School asking Google [engineers](https://youtu.be/cfG8deJwyC0?si=KMunJyOzx8mi2EkX)\n",
        "  * YT Fraz talk with Googe [recruiter](https://youtu.be/igfzqDO_9jE?si=2BbYtMs6nztbdvTL), how I craked [Google](https://youtu.be/YlP7CWpHgS4?si=owpHY1EsFVVoxAQD) and How I started [coding](https://youtu.be/NxvS-Uzjueg?si=g7fn12aCl-JAyNKf)  "
      ],
      "metadata": {
        "id": "sgZGyxN1-XKM"
      }
    },
    {
      "cell_type": "markdown",
      "source": [
        "**Jul 25, 2024** 1️⃣\n",
        "1. Sleep ✅: Slept 7 hours\n",
        "2. Learn ✅: 6 hour\n",
        "3. Walk ✅: 10K\n",
        "4. Norp ✅:\n",
        "5. Food ✅:\n",
        "  * Ate Break fast after first first session 2 hours of study\n",
        "  * Walked after second 2 hour session and heavy dinner and walked again\n",
        "  * Thirds 2 hour session after giving son a bath and puting him to sleep\n",
        "6. Media✅:\n",
        "  * YT The Print: Pak IMF [addiction](https://youtu.be/lD92-DhC7Rw?si=yHIILd7n1_cQjigh)  "
      ],
      "metadata": {
        "id": "VWFIcNJx-QNC"
      }
    },
    {
      "cell_type": "markdown",
      "source": [
        "**Jul 24, 2024**\n",
        "1. Sleep ✅: Slept 7 hours\n",
        "2. Learn 🟠: 1 hour\n",
        "3. Walk : 10K\n",
        "4. Norp 🔴:\n",
        "5. Food : Ate home made food but before finishing 6 hour study\n",
        "6. Media:\n",
        "  * YT How to bake Costco's [Rosemary](https://youtu.be/_N6d20uixq4?si=kQlePvfHh-PNFwr-) Bread\n",
        "  * YT Wiz passes on Google [TWIST](https://youtu.be/uljy6vadEFs?si=bwtd-7B2mKes8c_S)\n",
        "  * YT Neetcode why is everyone [lying](https://youtu.be/U_cSLPv34xk?si=udu-FGsac6f2ym9s)\n",
        "  * YT The dairy of a CEO Exercise [Neuroscientist](https://youtu.be/5o-tRub-0pQ?si=0OlS_T6Ox5daFWj5)\n",
        "  * YT Aakash shing cstandup: [Video1](https://youtu.be/fk3svL0GPWI?si=CZRZY-NAY-Ycq0Kv), [Video2](https://youtu.be/MSqQaCZvqJ8?si=JNpo8javU-PZBZeC), [Video3](https://youtu.be/p_HqJyq2SYU?si=7WTvtFjtv8Y2dbsV)\n",
        "  * YT Madhur Virli Standup: [IIT Dream](https://youtu.be/PPjYWaqCffQ?si=EdIg89G1dy_v8HYl)\n",
        "  * YT Harsh Gujral standup: 50 [Shades](https://youtu.be/YOiFzUXxTHc?si=L1R2bYn-OXjO4lmM)\n",
        "  * YT Varun Grover Standup: Shaadi [Election 2024 ](https://youtu.be/EYwNjMtGr6U?si=3kI4tC_9gTeBXaO6)"
      ],
      "metadata": {
        "id": "E_TIVmSL_Uya"
      }
    },
    {
      "cell_type": "markdown",
      "source": [
        "**Jul 23, 2024**\n",
        "1. Sleep ✅: Slept 7 hours\n",
        "2. Learn 🟠: 1 hour\n",
        "3. Walk : 10K\n",
        "4. Norp 🔴:\n",
        "5. Food : Ate home made food but before finishing 6 hour study\n",
        "6. Media:\n",
        "  * YT All in [Besties take Napa](https://youtu.be/xk4G-ImoSvw?si=WvwR94phAAQzBLFv)\n",
        "  * YT Mark Zuck Emily Chang Napa Valley Llama new launch [LLM](https://youtu.be/YuIc4mq7zMU?si=rFqNP3Aj0RIKVsCw)"
      ],
      "metadata": {
        "id": "dGIQdl8iCg-x"
      }
    },
    {
      "cell_type": "markdown",
      "source": [
        "**Jul 22, 2024**\n",
        "1. Sleep ✅: Slept 7 hours\n",
        "2. Learn 🟠: 4.5 hours couldnt do 6\n",
        "3. Walk ✅: Did 10K\n",
        "4. Norp :\n",
        "5. Food : Cook made fish and dal. Couldn't resist so had it when I had still 1.5 hours of Learn left\n",
        "6. Media :\n",
        "  * YT: How to undo in google [colab](https://youtu.be/6CLNDwCdM50?si=oeaYYxmcQOuU2DsF)\n",
        "  * YT: Joe Rogan [MrBeast](https://youtu.be/cLRLEnPaJLM?si=hv9dKV--hOh1vmc6).\n",
        "  * YT: Sidemen Speed [edition](https://youtu.be/m7YSTtiPMl4?si=TlG1Fiay5P09afdA)\n",
        "  * YT: Smita Prakash and Dr. Vikas Divyakirti [podcast](https://youtu.be/cuFEx-7Pth0?si=rPhzevBqTXQ7vy0U)  "
      ],
      "metadata": {
        "id": "Iq62meFmqZwy"
      }
    },
    {
      "cell_type": "markdown",
      "source": [
        "**Jul 20, 2024**\n",
        "1. Sleep 🔴: Tool phone to sleep wathced random YT videos\n",
        "2. Learn 🔴:\n",
        "3. Walk 🔴:\n",
        "4. Norp 🔴:\n",
        "5. Food 🔴:\n",
        "  * previous day dip impacted mood, health and kicked negative spiral.\n",
        "6. Media :\n",
        "  * Binje watched and finished 3 to 8 episodes of The Dropout\n",
        "  * YT [Displaced Amazon Tribe](https://youtu.be/QSzbUaJkV_0?si=HtaErebnMm2IFtpE)\n",
        "  * YT Stanford Noble Prize [Scandal](https://youtu.be/kzhcDh3tcS4?si=I1q9CA9hIlp1-imL)\n",
        "  * YT The Dropout's actor Naveen Andrew's sons [party](https://youtu.be/qJ_G71HNeCo?si=8z5q-rx9FNQwblhu)\n",
        "  * YT Biden drops out of [race](https://youtu.be/07du39HWd3M?si=iBAo5-U6bhmFKfYl)  \n",
        "  * YT Tanmay Bhat and Vicky [Kaushal](https://youtu.be/8E9XRKrKY9E?si=TL6_kWdCZ8UJSb74)\n",
        "  * YT RNC JD [vance](https://youtu.be/Q1hJAy8h2BU?si=BEs0ayr7seeT7bVM)\n",
        "  * YT The Print; [Rahul 3 questions](https://youtu.be/04H4xkJV3qE?si=_JBVTvMXZqjDwcnz)\n",
        "  * YT Mr. Beast 1M youtubers [fight](https://youtu.be/4SNThp0YiU4?si=RrLHZSzAQO0zBqL4)\n",
        "  * YT Logan Paul on MrBeast 1M fight [exit](https://youtu.be/JJXdlOKHJss?si=XM9Z8R9vA8xXV1sr)\n",
        "  * YT Dhruv Rathee response to Godhi [final](https://youtu.be/vVqhgfoFaDk?si=ODbtdwBksWmn1zxJ)\n",
        "  * YT CarryMinati [Vadapav](https://youtu.be/WX7DBPcsiEs?si=xGilztvJtPW7RjuJ), [Sigma](https://youtu.be/i2xxhRTs5Uc?si=TeOQ6we9F97YXVzh), [Daddy](https://youtu.be/xR9XBqI0zus?si=YY3UD0PKbOZvpjDF)\n",
        "  * YT Alex Rivera: Millionaire YT [house](https://youtu.be/yXSBiOJGq7I?si=-_UyMVr_mIrHnOsu), Rent [BF](https://youtu.be/cCqiqrMOhAk?si=XEceKkzzCEt50lzB)\n",
        "  * Duolingo chinese\n",
        "\n",
        "**Jul 20, 2024**\n",
        "1. Sleep ✅: Slept 6 hours\n",
        "2. Learn 🔴:\n",
        "3. Walk 🔴:\n",
        "4. Norp :\n",
        "5. Food 🔴:\n",
        "  * Couldn't get up early and finish six hours of study and had to visit two friends place one for dinner and one for lunch. after that late evening went to restaurant for dinner. Should have packed lunch at friends place and stuck to routind and planned better and complete 6 hours study in the morning.\n",
        "6. Media :\n",
        "  * Duolingo  \n"
      ],
      "metadata": {
        "id": "FrP-Kd9DkLZh"
      }
    },
    {
      "cell_type": "markdown",
      "source": [
        "**Jul 19, 2024**\n",
        "1. Sleep ✅: Slept at 3:30 AM and woke up at 5:30 AM. Did 5 hours went to bed without phone or airpods. Quality 5 hours. will makeup for the lost three hours the coming day.\n",
        "2. Learn ✅: Did 3.5 Hours before 6PM walk. Remaining 2.5 hours after 8PM ending at 12 AM. Had to give bath to son, and talk to family over phone in the middle.\n",
        "\n",
        "3. Walk ✅: Walked a lot today listening to All in podcast and solving Duolingo\n",
        "4. Norp ✅:\n",
        "5. Food ✅: Cook cooked palak dal and bhindi\n",
        "6. Media ✅:\n",
        "  * All in podcast on YT\n",
        "  * Watched Dropout Second episode while having my dinner OMAD at 2 AM\n"
      ],
      "metadata": {
        "id": "pWm2DXPf_Q9I"
      }
    },
    {
      "cell_type": "markdown",
      "source": [
        "**Jul 18, 2024**\n",
        "1. Sleep ✅: Slept for 7 hours inspite of the bad start due to bad previous day of junk food, watched random videos, didn't compelte the streak, took phone to bed watching youtube. But after sleeping at around 2:30 AM woke up at 10 AM so slepth for approx 7 hours\n",
        "2. Learn ✅:\n",
        "  * First hour when son was sleeping from 3pm to 4pm: Based on the failures to do a streak more than 2 days. From the learnings of failure did an intervention to fix the strategy for sure success going forward.\n",
        "  * Second hour by 5PM\n",
        "  * Remaining 4 hours from 8:14 PM to 1:40 PM. Had to get up few times to interact with wife and son.\n",
        "3. Walk ✅: Walked 10K with Rishiv and solved duolingo to come first in leaderboard. Heard how google works for few mins and later walked silently. 5:30 PM to 7:30 PM\n",
        "4. Norp ✅: 1:40 AM\n",
        "5. Food ✅: 2:00 AM\n",
        "  * Had three cups of tea and water during the day\n",
        "  * Wife ordered biriyani. Ate it, bad decision especially when doin OMAD since you get one chance to eat and you should feel good for fulll one day it is always best to go with the healthiest options\n",
        "6. Media ✅:\n",
        "  * Listened to: How Google Works Book by Eric Schmidt and Jonathan Rosenberg\n",
        "  * Duolingo Chinese\n",
        "  * Watched Dropout first episode while having my dinner OMAD at 2 AM\n"
      ],
      "metadata": {
        "id": "VYuNulK5FXsq"
      }
    },
    {
      "cell_type": "markdown",
      "source": [
        "**Intervention**  \n",
        "Observation on why I'm not able to do a streak for not more than two days:\n",
        "1. Thought of sleep early and getup early approach. but seems like with having job as knowledge worker having a strict schedule to go to bed and get up is almost impossible. Blockers like I'm not done with one of the day goals before the beginning of scheduled sleep time, some days you go out with friends and come home late, your wife has a hectic office week and she comes home really late pushing all your schedule out of the window causing lot of argument etc. So way too many problems to have a fixed sleeping schedule especially sleep early and get up early. So need to have a stratergy that is more flexible and addresses all the negatives of current strategy\n",
        "2. Food has become a huge one that I'm not able to follow to many confusion. There are times where there is no body to eat with and I'm hungry. Or I start the day with eating food and some time out of animal instincts go for the worst food such as office breakfast, chips, costco pizza, indian restaurant, uber eats, drive thru chickfila. Whole day goes in what to eat and worrying about that instead of really doing the most impartant task 6 hour focus study and work. After eating shit food it really screws all the progress not just for the day but also for future days and it is the trigger for the animal instincts to take over once I surrender to to food craving. Need to make the food rule simple enough to follow such that it doesent hamper other key tasks progress.\n",
        "\n",
        "**FROM:** MNF_SLW_Streaks to achieve QUADS\n",
        "\n",
        "Manage Blockers to achieve QUAD goal\n",
        "1.   Media - Document every audio and video consumed.\n",
        "  * Audiobooks\n",
        "  *Active learning videos only.\n",
        "  * Media forwarded by friends and family\n",
        "2.   Norp - Daily jalaka only\n",
        "3.   Food -\n",
        "  * **Whom?** Never eat alone.\n",
        "  * **What?** Never eat processed food. TIP: Eat organic and wholefood only. Biased heavily (99%) towards plant based food.\n",
        "  * **Where?** Biased heavily towards homecooked food (99%).Outside food only with friends and while traveling. But should still meet **Whom and What**\n",
        "  * **When?** 12PM to 1PM eating window. Rest of the time water.\n",
        "  * **Why?** For good nutrition to long healthy life. Not for indulgence, staisfying craving or stress eating.\n",
        "  * **How?** Max 2 meals and a snack. Initiatie dinner only, other meal and snack have only if others invite. TIP: If hungry do vipassana, intermittent fasting and drink water. Be mindful while eating. Focus on the food and the people with you.\n",
        "\n",
        "Promote Boosters to achieve Quad Goal\n",
        "1. Sleep - 7 hours without any gadget except iwatch from 9:30 PM to 4:30 AM\n",
        "2. Learn - 6 hours with vipassana focus\n",
        "3. Walk -  10,000 steps\n",
        "\n",
        "**TO:** Sequence_MNF_SLW_Streaks to achieve QUADS\n",
        "\n",
        "1. Sleep - 7 hours without any gadget except iwatch. Biased towards sleep early get up early 9:30 PM to 4:30 AM\n",
        "2. Learn - 6 hours with vipassana focus\n",
        "3. Walk - After Learn. 10,000 steps.\n",
        "4. Norp - After Walk. Daily jalaka only\n",
        "5. Food - After Walk.\n",
        "  * Biased towards Organic WholeFood, Fruits & Vegetables, HomeCooked,\n",
        "  * 3 litres of water, No processed food, Restaurant food only with friends and while traveling\n",
        "  * Biased towards OMAD. Max three eating sessions in a day.\n",
        "  * Biased towards having food with someone, worst case with Media following the guidelines\n",
        "6. Media - After Learn. Document every audio and video consumed.\n",
        "  * Audiobooks, Active learning Videos, and Media forwarded by friends and family\n",
        "  \n",
        "*The new plan is designed so that I can succesfully complete all the tasks to achieve my Quad goal daily addressing all the negatives of previous approach such as *\n",
        "* 1  * without stressing about day having activities that was not planned earlier *\n",
        "* 2 *Getting irritated with friends and family if they don't follow schedule*\n",
        "* 3 *How to cope eating disorder  making sure it doesn't hurt the progress*\n",
        "* 4 *Making sure things are prioiritzesd and sequenced such that lower priority activities don't overtake the highes prioirty ones*"
      ],
      "metadata": {
        "id": "gjCxtKQG1DU3"
      }
    },
    {
      "cell_type": "markdown",
      "source": [
        "**July 17, 2024**\n",
        "1. Media ✅:\n",
        "  * Audiobook: How Google Works Book by Eric Schmidt and Jonathan Rosenberg\n",
        "  * Duolingo: Chinese\n",
        "  * Wathced youtube:\n",
        "    * [ANI podcast with Smita prakash with Ola founder](https://youtu.be/PF6diktdNNE?si=xTNOD_54k6NT6tAT)\n",
        "    * Random stupid YT shorts\n",
        "      * @trendingHacks50: 21 shorts\n",
        "      * @reelin532: 2 shorts\n",
        "      * @radiointernational: 1 shorts\n",
        "      * @TheWorldsGreatestRoofer: 1 shorts\n",
        "      * @MaR_Leh: 2 shorts\n",
        "      * @kanupriya1707: 6 shorts\n",
        "      * @swiftiekey.com_: 1 shorts\n",
        "      * @SofiManassyan: 41 shorts\n",
        "      * @CelineDept: 35 shorts\n",
        "    * Standup comedy:\n",
        "        * Gaurav kapoors videos [Vid1](https://youtu.be/tVHeXfLKp2g?si=HO-5jrtkJiiwmpjB), [Vid2](https://youtu.be/CuWQ_8Qk9fs?si=oEKLKU4ecrm0o9jR)\n",
        "        * Mohit Morani's [video](https://youtu.be/VnZUlu2gWMs?si=uzoZBFicS66VrFxv)\n",
        "    * ABC7 news injured bay area hiker [video](https://youtu.be/QrhhWItw9_g?si=7wr19j3d8FnREqxl)\n",
        "    * Niladri kumar performance Ambani vedding Modi applause [video](https://youtu.be/IUWEeCvxtvs?si=V_DnlhyNG42YmoOl)\n",
        "    * Fire fighter breaks car window [Inside edition](https://youtu.be/vxeed7y6ohY?si=DOBALGPCGvP-2Lw1)\n",
        "    * Anuj Pachhel's why neet and jee toppers are bullied [video](https://youtu.be/x-2Zt1EE15Q?si=4JHc12UAO7vJtyKD)\n",
        "    * Brut India [Vid1 IAS officer](https://youtu.be/6PAr0RgSFzE?si=5582ZmqEp12sx-32) and [Vid2 Student reddit confession](https://youtu.be/rYb4JNGShOM?si=V4oBgHqyjBv36qZX)\n",
        "2. Norp ✅: Took jalaka at noon\n",
        "3. Food 🔴:\n",
        "  * Horrible day for food: With all the shit videos watching ate 3 meals\n",
        "  * Ate a lot of snacks: moong dal, chana dal, dry fruits\n",
        "  * Had a huge craving to order, had lost control almost: But because of this documentation approach some how managed to convinve myself to shop at Costco and alteast finish that task if I'm not able to study. So got 2 slice of pizza and hotdog. So this saved the day from getting even more shittier.\n",
        "  * This also spoiled the way I went to sleep was so out of control took my phone to sleep watching youtube podcasts, had a really bad sleep start for the next day\n",
        "___\n",
        "1. Sleep ✅:\n",
        "  * slept for 9 hours\n",
        "2. Learn ✅:\n",
        "  * Did study for 6 hours\n",
        "3. Walk ✅: Walked with wife and son and later alone to complete 10K"
      ],
      "metadata": {
        "id": "MVYsw4VyuJH-"
      }
    },
    {
      "cell_type": "markdown",
      "source": [
        "**July 16, 2024**\n",
        "1. Media 🔴:\n",
        "  * Audiobook: How Google Works Book by Eric Schmidt and Jonathan Rosenberg\n",
        "  * Watched [TWIST on youtube](https://youtu.be/Mn45G7Ex9PU?si=1L1MzH6wYBUka2G0)\n",
        "  * Duolingo: Chinese\n",
        "2. Norp ✅: Took jalaka at noon\n",
        "3. Food 🔴:\n",
        "  * Broke the rule: Ate food at noon watching TWIST and started justfying that is a good thing\n",
        "___\n",
        "1. Sleep ✅:\n",
        "  * slept for 9 hours\n",
        "2. Learn ✅:\n",
        "  * Did study for 6 hours\n",
        "3. Walk ✅: Walked with wife and son and later alone to complete 10K"
      ],
      "metadata": {
        "id": "9D3pYiKMtIzk"
      }
    },
    {
      "cell_type": "markdown",
      "source": [
        "**July 15, 2024**\n",
        "1. Media ✅:\n",
        "  * Audiobook: How Google Works Book by Eric Schmidt and Jonathan Rosenberg\n",
        "  * Duolingo: Chinese and Spanish.\n",
        "\n",
        "2. Norp ✅: Took jalaka after cleaning house, after coming back from Fedex and Puranpoli restaurant at 8PM\n",
        "3. Food 🔴:\n",
        "  * Broke the rule: Ate nonnies and coffe in the morning after getting up alone.\n",
        "  * Broke the rule: Went to office had breakfast and coffee alone and the carb processed food heavy. Really added huge barrier to effective study\n",
        "  * Broke the rule: After starting the day bad went twards downward spiral with heavy salad lunch with potato chips.\n",
        "  * Went to Fedex with wife and son , later ended up going out to eat and ate misal pav and vada pav. The whole day was junk. So finally forced me to reform food habit.\n",
        "\n",
        "___\n",
        "1. Sleep ✅:\n",
        "  * slept for 7 hours plus. Started sleeping early and getting up early after 7 hours and going to sleep without gadget reallly worked well\n",
        "2. Learn 🟠: Did 6 hours but need to be more focused.\n",
        "  * Correcting few errors to make this MNF_SLW streak longer, like going to sleep without gadget and sleep time to make sure get up early\n",
        "  * Sleeping early to start the good habit\n",
        "3. Walk ✅: Walked along with Duolingo to come first in the leader board gold that was ending today"
      ],
      "metadata": {
        "id": "NdIsP3rJq_22"
      }
    },
    {
      "cell_type": "markdown",
      "source": [
        "**July 14, 2024**\n",
        "1. Media ✅:\n",
        "  * Audiobook: How Google Works Book by Eric Schmidt and Jonathan Rosenberg\n",
        "  * Duolingo: Chinese and Spanish. Did for hours to come first in leaderboard\n",
        "  * Saw a few short videos less than a min by mistake in linkedin.\n",
        "\n",
        "2. Norp ✅: Took jalaka after cleaning house and walking\n",
        "3. Food ✅:\n",
        "  * cleaned the kitchen and had Lunch: ate boiled rice, pickle, curd, dal, tea, moong dal snack, Nonnies thins with wife and son\n",
        "  * Had coconut water with wife and son\n",
        "\n",
        "___\n",
        "1. Sleep ✅:\n",
        "  * slept for 7 hours plus, started sleep\n",
        "2. Learn 🟠:\n",
        "  * Correcting few errors to make this MNF_SLW streak longer, like going to sleep without gadget and sleep time to make sure get up early\n",
        "  * Sleeping early to start the good habit\n",
        "3. Walk ✅: Walked along with Duolingo to come first in the leader board gold that was ending today"
      ],
      "metadata": {
        "id": "idOa1BXOHAmg"
      }
    },
    {
      "cell_type": "markdown",
      "source": [
        "**July 13, 2024**\n",
        "1. Media 🟠:\n",
        "  * Audiobook: How Google Works Book by Eric Schmidt and Jonathan Rosenberg\n",
        "  * Duolingo: Chinese and Spanish\n",
        "  * Saw few videos on Amazon to by walker and head fall protector for Rishiv\n",
        "  * [Saw Full All In Episode 187 ](https://www.youtube.com/watch?v=w30WLkNU47g&ab_channel=All-InPodcast)\n",
        "  * Saw frist few minutes of [All In Interview](https://www.youtube.com/watch?v=-l2TdinWoM8&ab_channel=All-InPodcast)\n",
        "  * Watched two to three less than 5 mins videos of Trump incident news\n",
        "  * Watched popular videos of Sammy Obeid stand up comedian on youtube late night instead of sleeping. Regret it don't repeat. Don't take gadget to bedroom. fro, today.\n",
        "  * Attended RV Alumni Connect is Computer History Museum. Anil Kumble was the guest. Met many friends from 2012 batch and also got to see the huge Alumni crowd.\n",
        "  * Watched and shared few videos of Baby first time in the swimming pool.\n",
        "  * Watched video of a cyprus youtuber who won election in Cyprus\n",
        "\n",
        "2. Norp ✅:\n",
        "3. Food ✅:\n",
        "  * Cooked potatoes and beand sabji for my wife\n",
        "  * Ate with my engeneering college friends at RVCE alumni connect\n",
        "  * Came back and had lichi, mango and milk with turmeric with my wife and son\n",
        "\n",
        "___\n",
        "1. Sleep ✅:\n",
        "  * slept for 7 hours plus but started to sleep badly by watching some YT videos. Have had bad habits of wathcing videos and audio on bed until fallen asleep. ending it today.\n",
        "2. Learn 🟠:\n",
        "  * Could only do 1 hour since wokeup late and in the eveing had to attend Anil Kumble gues RVCE alumni connect event\n",
        "3. Walk 🟠: Walked very few steps"
      ],
      "metadata": {
        "id": "FeEm69o0--9H"
      }
    },
    {
      "cell_type": "markdown",
      "source": [
        "**July 12, 2024**\n",
        "1. Media ✅:\n",
        "  * Audiobook: How Google Works Book by Eric Schmidt and Jonathan Rosenberg\n",
        "  * Duolingo: Chinese and Spanish\n",
        "  * Saw few videos on Amazon to by walker and head fall protector for Rishiv\n",
        "  * [Saw Full All In Episode 187 ](https://www.youtube.com/watch?v=w30WLkNU47g&ab_channel=All-InPodcast)\n",
        "  * Saw frist few minutes of [All In Interview](https://www.youtube.com/watch?v=-l2TdinWoM8&ab_channel=All-InPodcast)\n",
        "2. Norp :\n",
        "3. Food ✅:\n",
        "  * Breakfast: Tea, Avocado toast with wife and son.\n",
        "  * Dinner with Ranjita and Son: Dal, egg fried rice, curd, sauce, dry nuts, coconut water, tea and ground nut\n",
        "\n",
        "___\n",
        "1. Sleep ✅:\n",
        "  * Slept at 3 AM and woke up at 9 AM.\n",
        "  * Took 15 minute nap from 10:30 AM to 10L45 AM\n",
        "2. Learn ✅:\n",
        "  * Did 4 hours in office and 2 hors at home\n",
        "3. Walk ✅: Walked more than 12K today"
      ],
      "metadata": {
        "id": "CX04F9q6eZG4"
      }
    },
    {
      "cell_type": "markdown",
      "source": [
        "**July 11, 2024**\n",
        "1. Media ✅:\n",
        "  * Audiobook: Started: How Google Works Book by Eric Schmidt and Jonathan Rosenberg\n",
        "  * Duolingo: Chinese and Spanish\n",
        "2. Norp ✅: Took bath late at 2:30 AM .|.\n",
        "3. Food ✅:\n",
        "  * Breakfast Avocado toast with wife and son.\n",
        "  * 1PM lunch: customized Dindigal's mutton sukha, curd and boiled rice\n",
        "  * 6PM Maggi and jeera coffee\n",
        "  * 10:30 PM Dinner: Shezwan fried rice, curd and boiled rice\n",
        "___\n",
        "1. Sleep ✅: Slept at 1 AM and woke up at 9 AM\n",
        "2. Learn ✅: Struggled to sit but completed 6 hours by 2:30 AM\n",
        "  * completed working on year end summary form summarizing my work at company\n",
        "3. Walk ✅: Night 9:30 PM"
      ],
      "metadata": {
        "id": "FmAEVPPoQAl0"
      }
    },
    {
      "cell_type": "markdown",
      "source": [
        "**July 10, 2024**\n",
        "1. Media ✅:\n",
        "  * Audio book: Completed: Amazon Unbound: Jeff Bezos and the Invention of a Global Empire\n",
        "  * Audiobook: Started: Einstein: His Life and Universe by Walter Isaacson\n",
        "  * Duolingo: Chinese and Spanish\n",
        "2. Norp ✅: Took bath late in the evening 8AM after birthday celebration .|.\n",
        "3. Food ✅:\n",
        "  * Breakfast Avocado toast with wife and son.\n",
        "  * 5PM lunch potatoe and asparagus fry and boiled rice curd. Ate with wife and son\n",
        "  * 9:30 PM Dinner: Wife's birthday ordered from outside. Chicken lollypop, Shezwan fried rice, boiled rice curd and mutton sukha\n",
        "___\n",
        "1. Sleep ✅: Slept at 3:00 AM and woke up at 10:00 AM\n",
        "2. Learn 🟠:\n",
        "  * working on year end summary form summarizing my work at company\n",
        "3. Walk ✅: Walked 12PM when the baby was sleeping\n",
        "\n",
        "\n",
        "\n",
        "\n",
        "\n",
        "\n",
        "\n",
        "\n"
      ],
      "metadata": {
        "id": "P9X8z6uLSj-s"
      }
    },
    {
      "cell_type": "markdown",
      "source": [
        "**July 9, 2024**\n",
        "1. Media ✅:\n",
        "  * Audio book: Amazon Unbound: Jeff Bezos and the Invention of a Global Empire\n",
        "  * YT: Akyan: One handed ✋🏻 shoe 👟 lace tying on Youtube\n",
        "  * Duolingo: Chinese and Spanish\n",
        "2. Norp ✅: Took bath late in the night 2AM after birthday celebration .|.\n",
        "3. Food ✅:\n",
        "  * Breakfast Avocado toast with wife and son.\n",
        "  * Banana Dates milkshake and Nonnies Nonni's THINaddictives Almond Thin Cookies with wife and son.\n",
        "  * Dinner: Chicken sukha, Egg Burji, Beans Mushroom, Boiled Rice, Curd, Mint chutney with wife and son. Dates with cashew and almond inside\n",
        "  * Celebrated Wife's birthday, midnight cake cutting and pringles\n",
        "___\n",
        "1. Sleep ✅: Slept at 1:30 AM and woke up at 8:30 AM\n",
        "2. Learn ✅:\n",
        "  * Nannie was there and could study. Setup colab notebook to document MNF_SLW to achieve QUAD goals\n",
        "3. Walk ✅: Evening walk before dinner\n",
        "\n",
        "\n"
      ],
      "metadata": {
        "id": "_vPZeDQ-qv5C"
      }
    }
  ]
}