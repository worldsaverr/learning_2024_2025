{
  "nbformat": 4,
  "nbformat_minor": 0,
  "metadata": {
    "colab": {
      "provenance": [],
      "collapsed_sections": [
        "RjL1JxwWtyRY"
      ],
      "authorship_tag": "ABX9TyOuuIgz6tYWzglHSMefr2kd",
      "include_colab_link": true
    },
    "kernelspec": {
      "name": "python3",
      "display_name": "Python 3"
    },
    "language_info": {
      "name": "python"
    }
  },
  "cells": [
    {
      "cell_type": "markdown",
      "metadata": {
        "id": "view-in-github",
        "colab_type": "text"
      },
      "source": [
        "<a href=\"https://colab.research.google.com/github/worldsaverr/learning_2024_2025/blob/main/QUAD_2024.ipynb\" target=\"_parent\"><img src=\"https://colab.research.google.com/assets/colab-badge.svg\" alt=\"Open In Colab\"/></a>"
      ]
    },
    {
      "cell_type": "markdown",
      "source": [
        "# **PS_LM_WD_BS_NF** Streaks to achieve QUADS\n",
        "\n",
        "1. Plan & Sleep -\n",
        "  * Sleep 7 hours without any gadget except iwatch. Biased towards sleep early get up early 9:30 PM to 4:30 AM\n",
        "  * Plan in detail tomorrow and running next 7 days\n",
        "2. Learn & Media  -\n",
        "  * 6 hours with vipassana focus.\n",
        "  * Document every active learning audio (Dhamma, Libby) and video (Moocs, YT)\n",
        "3. Walk & Duolingo -\n",
        "  * Walk 10,000 steps.\n",
        "  * Duolingo daily streak Chinese and Spanish\n",
        "4. Bath & Stum - Daily\n",
        "5. Network & Food-\n",
        "  * Network: 100% vipassana interactions with Family, friends, and network\n",
        "  * Food:\n",
        "    * Document everything you eat (max 2000 calories/day) in 4 images: 3 meals, 1 snack/day and 3L water.\n",
        "      * Meal 1: [Avocado,Quinoa&Egg](https://www.youtube.com/watch?v=rIYqwpgNhu0&t=191s) Bowl (Toppings: Dry fruit, Nuts, vegetables, leafes, paneer/tofu) and Moong Bean Drink\n",
        "      * Meal 2: Boiled Rice, Curry and Sabji\n",
        "      * Snack : Fruits, vegetable & Dry Fruits Plate, Moong Bean Drink\n",
        "      * Meal 3: Boiled Rice, Curry and Sabji\n",
        "    * No:\n",
        "      * No ultra processed food and no outside/restaurant food\n",
        "      * Only Exception: Meals while networking and while traveling\n",
        "    * Only:\n",
        "      * WholeFood, Organic, Max Fruits & Vegetables and Min Non-Veg & Dairy"
      ],
      "metadata": {
        "id": "wU5ctyhLu9Dh"
      }
    },
    {
      "cell_type": "markdown",
      "source": [
        "Common Emojis for reference: ✅ 🔴 🟠 1️⃣ 2️⃣ 3️⃣ 4️⃣ 5️⃣ 6️⃣ 7️⃣ 8️⃣ 9️⃣ 0️⃣ ☸️ 🧘👷🏻⚠️\n",
        "\n"
      ],
      "metadata": {
        "id": "YwZl3B53pFpe"
      }
    },
    {
      "cell_type": "markdown",
      "source": [
        "## Plot Streaks function"
      ],
      "metadata": {
        "id": "RjL1JxwWtyRY"
      }
    },
    {
      "cell_type": "code",
      "source": [
        "%%capture\n",
        "!pip install calplot\n",
        "import pandas as pd\n",
        "import calplot\n",
        "import logging\n",
        "import matplotlib.pyplot as plt\n",
        "from time import strptime\n",
        "from datetime import date\n",
        "\n",
        "def streaks_func(dates_dict):\n",
        "  def get_date_list(dates_dict):\n",
        "    date_list = []\n",
        "    for year, months_of_the_year in dates_dict.items():\n",
        "        for month, dates_list in months_of_the_year.items():\n",
        "            month_no = strptime(month.title(), '%b').tm_mon\n",
        "            for items in dates_list:\n",
        "              if items.isdigit():\n",
        "                date_list.append(date(year, month_no, int(items)))\n",
        "              else:\n",
        "                latest_streak_len = 0\n",
        "                for dt in range(int(items.split(\"-\")[0]), int(items.split(\"-\")[1])+1):\n",
        "                  latest_streak_len += 1\n",
        "                  date_list.append(date(year, month_no, dt))\n",
        "    return date_list, latest_streak_len\n",
        "\n",
        "  date_list, latest_streak_len = get_date_list(dates_dict)\n",
        "\n",
        "  def plot_streaks(date_list, latest_streak_len):\n",
        "    logging.getLogger('matplotlib.font_manager').setLevel(logging.ERROR)\n",
        "    idx = pd.Series(date_list, dtype='datetime64[ns]')\n",
        "    ts = pd.Series([1]* len(idx), index=idx)\n",
        "    calplot.calplot(ts, cmap= 'summer',suptitle = 'LastStreakMoreThanADay:{}'.format(latest_streak_len), colorbar=False)\n",
        "    return plt.show()\n",
        "\n",
        "  plot_streaks(date_list, latest_streak_len)"
      ],
      "metadata": {
        "id": "nCkvuwAYKHi1"
      },
      "execution_count": null,
      "outputs": []
    },
    {
      "cell_type": "markdown",
      "source": [
        "## Streak Input"
      ],
      "metadata": {
        "id": "hb4r-T2uuArM"
      }
    },
    {
      "cell_type": "code",
      "source": [
        "dates_dict = {\n",
        "    2024: {\n",
        "        'Jun': [ \"5-19\", \"21-23\"],\n",
        "        'Jul': [\"9\", \"11-12\", \"18-19\",\"25\",\"27\",\"29\"],\n",
        "        'Aug': [\"13\"]\n",
        "    }\n",
        "}\n",
        "streaks_func(dates_dict)"
      ],
      "metadata": {
        "colab": {
          "base_uri": "https://localhost:8080/",
          "height": 197
        },
        "id": "Mf_o1ej0PH56",
        "outputId": "79587be2-684e-4003-ca42-bdb1f9959823"
      },
      "execution_count": null,
      "outputs": [
        {
          "output_type": "display_data",
          "data": {
            "text/plain": [
              "<Figure size 1000x170 with 1 Axes>"
            ],
            "image/png": "[encoded data removed]"
          },
          "metadata": {}
        }
      ]
    },
    {
      "cell_type": "markdown",
      "source": [
        "**Aug 18, 2024**  \n",
        "\n",
        "PS_LM_WD_BS_NF|Status|Description\n",
        "--|--|--|\n",
        "Plan|✅| Did at 2AM\n",
        "Sleep|✅| Sleep at 2:45AM\n",
        "Learn|🟠| Did some approx 3 hours of learn and worked with Ranjita for Rishiv's birthday\n",
        "Media|✅|\n",
        "Walk|✅|10K completion at midnight\n",
        "Duolingo|✅|\n",
        "Bath & Stum|✅| After midnight walk\n",
        "Network|✅| Hung out with Engineering friends in SF and partied and stayed at friends home. Woke up went to costco and did shoppping and came home cleaned, cooked, slept and brought schedule back on track\n",
        "Food|✅| Solved the food habit for ever. (Tota 1665 calories consumed today)\n",
        "||**Meal1:** Banana icecream milk shake, 2 avocado toast, half veg sandwich, half peach and half apple (360 + 220 + 150 + 15 + 30 = 775)\n",
        "    || **Meal2:**\n",
        "    || **Meal3:** Dinner Egg burg, curd and boiled rice (200 + 50 + 200 = 450)\n",
        "    || **Snack:** 2 strawberry, 4 grapes, 11 Tortilla chips,1 carrot, few dry fruits, 1 date, 1 Duet and one cup milk tea (10+ 20 + 110 + 25 + 30 + 20+ 25+ 200 = 440)"
      ],
      "metadata": {
        "id": "qo7ST2rZ7-Vb"
      }
    },
    {
      "cell_type": "markdown",
      "source": [
        "**Aug 15,16,17, 2024**  \n",
        "\n",
        "PS_LM_WD_BS_NF|Status|Description\n",
        "--|--|--|\n",
        "Plan|🟠|\n",
        "Sleep|🟠|\n",
        "Learn|🟠| Didn't do 6 hours\n",
        "Media|✅|\n",
        "Walk|✅|\n",
        "Duolingo|✅|\n",
        "Bath & Stum|✅|\n",
        "Network|🟠|\n",
        "Food|🔴| Amistake repeated more than once is a DECISION. Fix and move on.\n",
        "||**Meal1:**\n",
        "    || **Meal2:**\n",
        "    || **Meal3:**\n",
        "    || **Snack:**"
      ],
      "metadata": {
        "id": "vJ7tamho6njO"
      }
    },
    {
      "cell_type": "markdown",
      "source": [
        "**Aug 14, 2024**  \n",
        "\n",
        "PS_LM_WD_BS_NF|Status|Description\n",
        "--|--|--|\n",
        "Plan|✅| Did high level day plan for tomorrow for the first time\n",
        "Sleep|👷🏻|\n",
        "Learn|✅| Did 1 hours in the morning before son woke up and remaining 5 hours in the office came late at 8:30 PM\n",
        "Media|✅|Watched and heard None\n",
        "Walk|✅| 10K in the morning with son immediately after he woke up\n",
        "Duolingo|✅|While in the toilet\n",
        "Bath & Stum|✅| At 3 PM when son was sleeping\n",
        "Network|✅⚠️|Snacks had craving went to Idli express alone and had idli and vada and coffee\n",
        "Food|✅⚠️| 720 + 600 + 780 = 2100 ⚠️ Exceeding 2000 calories hit breaks and ate processed food and tea\n",
        "||**Meal1:** 10:30 AM 3 Avocado toast, 1/2 plum, 1/2 orange, 1/2 cup boiled moong bean (150 + 330 + 30 + 50 + 160 = 720)\n",
        "    || **Meal2:** Boiled rice, curd, Dal sabji, Brussel Sprout sabji and 2 papad(200 + 100 + 100 + 100 + 100 = 600)\n",
        "    || **Meal3:**\n",
        "    || **Snack:** 1 filter coffee, 1 vada, 1 thatte idli, Sambar chutney, and 1/4 Dish Dash Chicken salad (200 + 150 + 100 + 200+ 130 = 780)"
      ],
      "metadata": {
        "id": "F1fg1pXTNFDU"
      }
    },
    {
      "cell_type": "markdown",
      "source": [
        "**Meal1**    \n",
        "![IMG_2024-08-14-121702.jpg](data:image/jpeg;base64,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)"
      ],
      "metadata": {
        "id": "-9nWgl-XOMql"
      }
    },
    {
      "cell_type": "markdown",
      "source": [
        "**Meal2**    \n",
        "![IMG_2024-08-14-142718.jpg](data:image/jpeg;base64,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)"
      ],
      "metadata": {
        "id": "ReBglNb3OfAa"
      }
    },
    {
      "cell_type": "markdown",
      "source": [
        "**Snack**   \n",
        "![IMG_2024-08-14-201118.jpg](data:image/jpeg;base64,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)"
      ],
      "metadata": {
        "id": "WgV8GwCEOoyO"
      }
    },
    {
      "cell_type": "markdown",
      "source": [
        "**Aug 13, 2024**  \n",
        "\n",
        "PS_LM_WD_BS_NF|Status|Description\n",
        "--|--|--|\n",
        "Plan|✅| Did high level day plan for tomorrow for the first time\n",
        "Sleep|✅| Slept at 12:30 AM woke up at 8AM\n",
        "Learn|✅| Did 2 hours in the morning when Nanny present and remaining 4 hours in office late evening from 7:30 to 11:30PM\n",
        "Media|✅|[Best space heater on amazon](https://youtu.be/hynRbnQ2hIE?si=T97SBP1Y7Kyza8Nl), App to take photo with low image size [Vid1](https://youtu.be/xgqKBcHWUgY?si=JONMOPSTc9yD1-zJ), [Vid2](https://youtu.be/g0gKGYYfy6o?si=8hiQHqj9q0mZ4pqe), [Vid3](https://youtu.be/3A7em_JF6-4?si=u8QNUz-YQl8pcm60), [Vid4](https://youtu.be/lFq1jP0U_Vc?si=5L_YiE1_P9ABIC9U), [Vid5](https://youtu.be/6wd0LuUEw4g?si=OS36RbHU8dA2uvf1), Send pics from iphone to mac [Vid1](https://youtu.be/1JsAuLl_X7Y?si=FT17-leUOmBjIHRV), [vid2](https://youtu.be/vVaFA6Rrc6c?si=X5GoSk9Z7Iyva8-U)\n",
        "Walk|✅| 10K in the after noon while nanny taking care of my son\n",
        "Duolingo|✅|Morning\n",
        "Bath & Stum|✅| At 6pm after feeding and put my son to bed\n",
        "Network|✅|Discussed with Nanny her weight loss story from 250lbs to 135lbs\n",
        "Food|✅| 855 + 560 + 670 + 590 = 2625 ⚠️ Exceeding 2000 calories hit breaks and ate processed food and tea\n",
        "||**Meal1:** 10:30 AM 3 Avocado toast  drynuts butter, plum, mango and orange, boiled moong bean half cup (330 + 150 + 100 + 50 + 100 + 25 + 100 = 855)\n",
        "    || **Meal2:** Boiled rice, curd, half boiled omlette, tindora sabji and Duet(200 + 30 + 100 + 100 + 130 = 560)\n",
        "    || **Meal3:** Bread 2 slice, avocado toast, moong bean banana drink, dry fruits (220 + 150 + 200 + 100 = 670)\n",
        "    || **Snack:** Junk at office 2 packs of potatoe chips, banana, tea (190 +190 + 110 +100 = 590)"
      ],
      "metadata": {
        "id": "J8hQqUPW9rWl"
      }
    },
    {
      "cell_type": "markdown",
      "source": [
        "**Snack image:**  \n",
        "![IMG_2024-08-13-221547.jpg](data:image/jpeg;base64,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)\n"
      ],
      "metadata": {
        "id": "BmoqaGPHVmTJ"
      }
    },
    {
      "cell_type": "markdown",
      "source": [
        "**Aug 12 2024**  \n",
        "\n",
        "PS_LM_WD_BS_FN|Status|Description\n",
        "--|--|--|\n",
        "Plan|✅|planned first attempt\n",
        "Sleep|✅|WIP\n",
        "Learn|🟠|Came to office to study at 9PM so 2.5 hours out of 6\n",
        "Media|✅|[How to cut ypur baby nails](https://youtu.be/w-OMcXNebgE?si=PssDM8zetP1oS3lU)\n",
        "Walk|✅|Evening with family 8PM\n",
        "Duolingo|✅|Morning\n",
        "Bath|✅|12PM when baby was sleeping\n",
        "Stum|✅|12PM\n",
        "Food|🔴|Bad continued craving went to Idliexpress with family\n",
        "Network|✅|Ate with family\n",
        "\n",
        "\n",
        "**TO**\n",
        "# **PS_LM_WD_BS_NF** Streaks to achieve QUADS\n",
        "\n",
        "1. Plan & Sleep -\n",
        "  * Sleep 7 hours without any gadget except iwatch. Biased towards sleep early get up early 9:30 PM to 4:30 AM\n",
        "  * Plan in detail tomorrow and running next 7 days\n",
        "2. Learn & Media  -\n",
        "  * 6 hours with vipassana focus.\n",
        "  * Document every active learning audio (Dhamma, Libby) and video (Moocs, YT)\n",
        "3. Walk & Duolingo -\n",
        "  * Walk 10,000 steps.\n",
        "  * Duolingo daily streak Chinese and Spanish\n",
        "4. Bath & Stum - Daily\n",
        "5. Network & Food-\n",
        "  * Network: 100% vipassana interactions with Family, friends, and network\n",
        "  * Food:\n",
        "    * Document everything you eat (max 2000 calories/day) in 4 images: 3 meals, 1 snack/day and 3L water.\n",
        "      * Meal 1: [Avocado,Quinoa&Egg](https://www.youtube.com/watch?v=rIYqwpgNhu0&t=191s) Bowl (Toppings: Dry fruit, Nuts, vegetables, leafes, paneer/tofu) and Moong Bean Drink\n",
        "      * Meal 2: Boiled Rice, Curry and Sabji\n",
        "      * Snack : Fruits, vegetable & Dry Fruits Plate, Moong Bean Drink\n",
        "      * Meal 3: Boiled Rice, Curry and Sabji\n",
        "    * No:\n",
        "      * No processed food, beverages and outside/restaurant food\n",
        "      * Only Exception: Meals while networking and while traveling\n",
        "    * Only: WholeFood, Organic, Max Fruits & Vegetables and Min Non-Veg & Dairy\n",
        "\n",
        "**FROM**\n",
        "# **P**s_**L**m_**W**d_**B**s_**F**n Streaks to achieve QUADS\n",
        "\n",
        "1. Plan tomorrow & Sleep - 7 hours without any gadget except iwatch. Biased towards sleep early get up early 9:30 PM to 4:30 AM\n",
        "2. Learn & Media  - 6 hours with vipassana focus.\n",
        "  * Document every active learning audio (Dhamma, Libby) and video (Moocs, YT)\n",
        "3. Walk & Duolingo - 10,000 steps.\n",
        "4. Bath & Stum - Daily\n",
        "5. Food & Network- 3 eating session After every 2 hours of Learning session.\n",
        "  * Biased: Organic WholeFood, Fruits & Vegetables, HomeCooked, OMAD,   \n",
        "  * Must: 3L water, No processed food, No tea/coffee use sprout drink instead, Restaurant food only with friends and while traveling\n",
        "  * With Family, friends and network always interact with 100% vipassana way\n",
        "\n",
        "\n"
      ],
      "metadata": {
        "id": "64HKKGVXQifu"
      }
    },
    {
      "cell_type": "markdown",
      "source": [
        "**Aug 08,09,10,11 2024**  \n",
        "\n",
        "Plan|Sleep|Learn|Media|Walk|Duolingo|Bath|Stum|Food|Network|\n",
        "-|-|-|-|-|-|-|-|-|-|\n",
        "🔴|✅|🔴|✅|✅|✅|✅|✅|🔴|✅|"
      ],
      "metadata": {
        "id": "pU3wCkXaBWca"
      }
    },
    {
      "cell_type": "markdown",
      "source": [
        "**Aug 07, 2024**\n",
        "1. Plan Tomorrow & Sleep 🟠-\n",
        "2. Learn & Media 🟠-\n",
        "3. Walk & Duolingo ✅- Walked in the morning 10 to 11AM\n",
        "4. Bath & Stum -\n",
        "5. Food & Network 🟠-\n",
        "  * Had avocado toast and sprouts hot beverage\n",
        "  * Was setting up the master bedroom for inlaws ate 1 Traditional Madeleines and 1 Mango coconut thin nonnies\n",
        "  * had fish fry salmon, boiled rice, dal and curd for lunch\n",
        "  *"
      ],
      "metadata": {
        "id": "d4ehAmNwQyoI"
      }
    },
    {
      "cell_type": "markdown",
      "source": [
        "**Aug 06, 2024**\n",
        "1. Plan Tomorrow & Sleep 🟠- Didnt plan for tomorrow but slept for 7 hours. Since was doing room setup for inlaws and baby proofing the house\n",
        "2. Learn & Media 🟠- Media awesome learning couldnt do 6 hours just 3 hours\n",
        "3. Walk & Duolingo ✅- Walked doing Dulingo from 1PM to 2:15 PM\n",
        "4. Bath & Stum - ✅ Tool bath immediately after the bath\n",
        "5. Food & Network 🟠- Ate two meals before 2hrs of study\n",
        "  * Ate breakfast at 10:45AM after cleaning the house for the baby for 3 hours: Bread, Avocado, muskmelon and sprout juice\n",
        "  * Ate lunch after the bath: Dal, Traditional Madeleines, Veg fried rice, orange half and curd one spoon\n",
        "  * Ate Dinner fish fry, fruit salad with icecream, dal and boiled rice\n",
        "  * 2 Traditional Madeleines and 1 Mango coconut thin nonnies  "
      ],
      "metadata": {
        "id": "oeK-j8RueDPX"
      }
    },
    {
      "cell_type": "markdown",
      "source": [
        "**Aug 05, 2024**\n",
        "1. Plan Tomorrow & Sleep 🔴 - Slept for 4 hours but didn't plan for tomorrow  \n",
        "2. Learn & Media 🔴- Studied only for 4.25 hours\n",
        "3. Walk & Duolingo -✅ Walked 10K did Duolingo. Had vipassana conversatoin with Friend who I met on walk and spoke to a good Friend on call after a long time. Thanks to this plan PS_LM_Wd_Bs_Fn\n",
        "4. Bath & Stum ✅-\n",
        "5. Food & Network 🟠- Ate home cooked food but not after every 2 hours of study\n",
        "\n",
        "**TO**\n",
        "# **P**s_**L**m_**W**d_**B**s_**F**n Streaks to achieve QUADS\n",
        "\n",
        "1. Plan tomorrow & Sleep - 7 hours without any gadget except iwatch. Biased towards sleep early get up early 9:30 PM to 4:30 AM\n",
        "2. Learn & Media  - 6 hours with vipassana focus.\n",
        "  * Document every active learning audio (Dhamma, Libby) and video (Moocs, YT)\n",
        "3. Walk & Duolingo - 10,000 steps.\n",
        "4. Bath & Stum - Daily\n",
        "5. Food & Network- 3 eating session After every 2 hours of Learning session.\n",
        "  * Biased: Organic WholeFood, Fruits & Vegetables, HomeCooked, OMAD,   \n",
        "  * Must: 3L water, No processed food, No tea/coffee use sprout drink instead, Restaurant food only with friends and while traveling\n",
        "  * With Family, friends and network always interact with 100% vipassana way\n",
        "\n",
        "**FROM**\n",
        "# SLWNFnM_Streaks to achieve QUADS\n",
        "\n",
        "1. Sleep - 7 hours without any gadget except iwatch. Biased towards sleep early get up early 9:30 PM to 4:30 AM\n",
        "2. Learn  - 6 hours with vipassana focus.\n",
        "3. Walk - 10,000 steps.\n",
        "4. Norp - Daily jalaka only\n",
        "5. Food & Netowrk- After every 2 hours of Learning session.  \n",
        "  * Biased towards Organic WholeFood, Fruits & Vegetables, HomeCooked,\n",
        "  * 3 litres of water, No processed food, No tea and coffee use sprout drink instead, Restaurant food only with friends and while traveling\n",
        "  * Biased towards OMAD. Three eating sessions in a day\n",
        "  * Biased towards having food with someone, whatsapp and linkedin networking.\n",
        "6. Media - Document every audio and video consumed.\n",
        "  * Audiobooks Libby\n",
        "  * Active learning Videos: MOOCS, YT videos for interview prep only  \n",
        "  * Media forwarded by friends and family\n",
        "  * Phone designed for hyper productivity only\n",
        "  * Videos from subscribed YT Channels only"
      ],
      "metadata": {
        "id": "3Pg4Mw2Egogz"
      }
    },
    {
      "cell_type": "markdown",
      "source": [
        "**Aug 04, 2024**\n",
        "1. Sleep 🔴:\n",
        "2. Learn 🔴:\n",
        "3. Walk ✅:\n",
        "4. Norp 🔴:\n",
        "5. Food 🟠:\n",
        "6. Media 🟠 229 mins: ~ 4 hours:\n",
        "  * 95 mins NF : The Out-Laws\n",
        "  * 31 mins YT: John Oliver West [Bank](https://youtu.be/NqK3_n6pdDY?si=FR50DFoVkPMbYOLv)\n",
        "  * 30 mins YT: The Print Nirmala [Sitharaman](https://youtu.be/41yXjtIc8m8?si=Ud8CqMWPU5NiLfPv)\n",
        "  * 50 mins YT: Gusto CEO Josh Reeves [TWIST](https://youtu.be/QvhvdUAPkDY?si=pFdHQC2MNSmzLEIo)\n",
        "  * 3 mins YT: Turkish olympics shooting [compet](https://youtu.be/LvXwXKjIP0A?si=PnnzAMckIQhZi_Yn)\n",
        "  * 16 mins YT: Cricket memes and Ambani [wedding](https://youtu.be/D6OxfGtb6lg?si=5s70a2qQBZYuMMxP)\n",
        "  * 4 mins YT: Inspiration Star Akyan: Celebrating freedom Through [Art](https://youtu.be/q1-bOwRaeO0?si=yHwXHWbO3cMZlXfx)\n",
        "  * 4 mins shorts YT: standup comedy 4 shorts\n"
      ],
      "metadata": {
        "id": "QE1MTSSl7lyW"
      }
    },
    {
      "cell_type": "markdown",
      "source": [
        "**Aug 03, 2024**\n",
        "1. Sleep 🔴:\n",
        "2. Learn 🔴:\n",
        "3. Walk ✅:\n",
        "4. Norp 🔴:\n",
        "5. Food 🟠:\n",
        "6. Media 🟠 ~ 4 hours:\n",
        "  * 160 mins NF: Glass Onion: A Knives Out Mystery\n",
        "  * 35 mins YT: Trump [NABJ](https://youtu.be/CNSGTxDC2WQ?si=_5AfXsP3yqdYzS_a)\n",
        "  * 4 mins shorts YT: standup comedy 4 shorts"
      ],
      "metadata": {
        "id": "F99o6AKy7gK8"
      }
    },
    {
      "cell_type": "markdown",
      "source": [
        "**Aug 02, 2024**\n",
        "1. Sleep 🔴:\n",
        "2. Learn 🔴:\n",
        "3. Walk 🔴:\n",
        "4. Norp 🔴:\n",
        "5. Food 🟠:\n",
        "6. Media 🟠: ~5 hours\n",
        "  * 95 mins NF: Irish [wish](https://youtu.be/HTmHtOSqHTk?si=YWg4HIVcvASDxaLM)\n",
        "  * 20 mins YT: TWIST $97 Billion VC [Panel](https://youtu.be/NVceHUqEoF0?si=PjPPK2SBMnw2UcZ9)\n",
        "  * 80 mins YT: All in [EP190](https://youtu.be/rj71DPhvpiE?si=Vk7qqQK8TLnP4eWP)\n",
        "  * 1 min YT: Baby boy climbing [stove](https://youtu.be/sovlC4339Wk?si=XF5KROu2Pls7Yz4g)\n",
        "  * 1 min YT: Studen spills [drink](https://youtu.be/ccKLKII3alg?si=UVDKP83OGTozHGDt)\n",
        "  * 60 mins YT: Elon musk Lex [Fridman](https://youtu.be/Kbk9BiPhm7o?si=WuLPE3u-XveUvHkq)"
      ],
      "metadata": {
        "id": "cO--ixim7dsP"
      }
    },
    {
      "cell_type": "markdown",
      "source": [
        "**Aug 01, 2024**\n",
        "1. Sleep ✅:\n",
        "2. Learn 🔴:\n",
        "3. Walk 🔴:\n",
        "4. Norp 🔴:\n",
        "5. Food 🟠:\n",
        "6. Media 🟠: ~ 7 hours\n",
        "  * 2 min YT: Women NZ rugby perfroms [Haka](https://youtu.be/EfXpLASd5gk?si=TcgZqwuUYUnQfn-d)\n",
        "  * 12 min YT:What is google actually [like](https://youtu.be/t78GXLHgGhk?si=tDHBGniclFp_z8_8)\n",
        "  * 12 min YT: Samsung galaxy [review](https://youtu.be/tYUC_Ni3lb4?si=9CF8NSkSKb-IWFCm)\n",
        "  * 1 min YT: Donald Trump hand [shake](https://youtu.be/U0LBawbGHJA?si=U4fmwiBTe8Vfbn5W)\n",
        "  * 120 mins NF: Hitman movie\n",
        "  * 2 min YT: Donald Trump handshake a diplomatic [powerplay](https://youtu.be/o8sqhdOaSX0?si=Enhcu55vHV94szBm)\n",
        "  * 30 mins YT: Staying on top of AI [Every](https://youtu.be/HHZFFdslU4g?si=VVmY2E45yAi5wDHp)\n",
        "  * 10 mins YT: Ani podcast [EP200](https://youtu.be/VZjxMN9pakk?si=q6N2cfLGKSnSK5X1)\n",
        "  * 10 mins YT: Jeoffrey [Hinton](https://youtu.be/n4IQOBka8bc?si=WGLLjzx8sxa6EoN1)\n",
        "  * 26 mins YT: The print Hamas [Chief](https://youtu.be/GRP4MSqi0Ao?si=A2ibo2eOH47fhP9f)\n",
        "  * 45 mins YT: Tiger belly Nutrition [rich](https://youtu.be/JOINLHcqvYw?si=HyQ2TqIxoajjTuW5)\n",
        "  * 10 mins YT: Joe Rogan talks about Khayla [Khun](https://youtu.be/0L2mMepOAwE?si=g84A-0zFPgk07qOF)\n",
        "  * 10 mins YT: Marques FBI declassified [story](https://youtu.be/_9prH7NFmLI?si=Pos0ZlthcKVBdHud)\n",
        "  * 8 mins YT: learning [Chinese](https://youtu.be/WU7OEX380Zs?si=JJAfznLjq69QokhU)\n",
        "  * 3 mins YT: Mark Zuck [chinese](https://youtu.be/HTmHtOSqHTk?si=YWg4HIVcvASDxaLM)\n",
        "  * 17 mins YT: Chinese [characters](https://youtu.be/NryURgnLdlw?si=Z6oRjrCmb2txV_O2)\n",
        "  * 73 mins YT Shorts: Oriental Pearl 40 videos, @yellowline flies 1video, @unwokeism 1 video, @nbcnews 1video, @dwarkeshpatel 1 video, @detectiveAJ 1video, @ANINewsIndia 1 video, @authenticconservative 1 video, @realamericasvoive 1 video, @JackGoodmanMD 10 videsos, Khylala 5 videos, Jor rogan 1 video, @reportnewsmedia 1 video, @theneonshoww 1 vodeo, @rattlesnake 1 video, @varunmayya 1 video, @motivationalvideo2.0 1 video, Brut india 1 video, @_achivesuccess 1 video, @intouchwithreality 1 video, @thepersistent 1 video\n",
        "\n"
      ],
      "metadata": {
        "id": "KP0mBjuN7Yiy"
      }
    },
    {
      "cell_type": "markdown",
      "source": [
        "**Jul 31, 2024**\n",
        "1. Sleep ✅:\n",
        "2. Learn 🔴:\n",
        "3. Walk ✅:\n",
        "4. Norp 🔴:\n",
        "5. Food 🟠:\n",
        "6. Media 🟠:\n",
        "  * 30 min YT: Elon musk X takeover [Video](https://www.youtube.com/live/tEkRY8TG2BU?si=CetJ3XN99X9tZWfy)\n",
        "  * 6 min YT: Joe Rogan Andrew Huberman [Scandal](https://youtu.be/Jld_OaBbrVU?si=qgitccU8VxmJgHhW)\n",
        "  * 20 min YT: Jordan Peterson Elon Musk [Interview](https://youtu.be/d8z2guJD9-g?si=XN3SuLCGjtgGat8W)\n",
        "  * 8 min YT: My son is dead Elon Musk Russell [Brand](https://youtu.be/_b__MBqmLG0?si=VQ6vgnazIBYejOiL)\n",
        "  * 13 min YT: Bill O Rielly John [Stewart](https://youtu.be/h7qZE4C_neo?si=wx7mzhr0YSEpc9g7)\n",
        "  * 8 min YT: Trevor Noah on Stphen [Colbert](https://youtu.be/b2ZX8DiT34U?si=PPPz0ISDJQrTbxzh)\n",
        "  * 2 min YT: John Oliver on Elon [Musk](https://youtu.be/_ZSBm4_0n68?si=f6xqgaaVLnkkgTnz)"
      ],
      "metadata": {
        "id": "G80VTdZd01gN"
      }
    },
    {
      "cell_type": "markdown",
      "source": [
        "**Jul 30, 2024**\n",
        "1. Sleep ✅:\n",
        "2. Learn 🟠:\n",
        "3. Walk ✅:\n",
        "4. Norp 🔴:\n",
        "5. Food 🟠:\n",
        "6. Media :\n",
        "  * 20 min YT: What's next [Nvidia](https://www.youtube.com/live/H0WxJ7caZQU?si=tMeanVSz_h2xn9Q7)\n",
        "  * 20 min YT: [TWIST](https://youtu.be/GRlAhsjwl5U?si=06El3yNkMTzr8Cku) The power of WEKA\n",
        "  * 55 min YT: Rahul Pandey Efficiency tips for [engineers](https://www.youtube.com/live/b33vqX74EcA?si=zTYXobBPhKpxezjw)\n"
      ],
      "metadata": {
        "id": "W3Gc68gY4FOI"
      }
    },
    {
      "cell_type": "markdown",
      "source": [
        "**Jul 29, 2024** 1️⃣\n",
        "1. Sleep ✅:\n",
        "2. Learn ✅: 6 hours. Went to office at 6PM and walked 10K till 7:20 PM and studied for 3.5 hours and came home and completed another 2.5 hours finishing at 3:30 AM\n",
        "3. Walk ✅: 10K listening to BG2 podcast and Nvidia Genseng and Mark zucks interview\n",
        "4. Norp ✅:\n",
        "5. Food 🟠:\n",
        "  * Had breakfast avocadi toast\n",
        "  * Had lunch boiled rice omlette\n",
        "  * Had 4 slice of bread and nuts butter one pack of chips and moong dal coffee in office\n",
        "  * came back home had gobi sabji, paneer curry and boiled rice for dinner\n",
        "6. Media 🟠:\n",
        "  * YT Air India customer case Gaurav Gupta [standup](https://youtu.be/NMkqtEEoN6U?si=-ewUC_w5FAHHT3nB), Son in [law](https://youtu.be/vABWkDVfhwc?si=lV9Y8zp8dt7QsNfd)\n",
        "  * YT Dhruv Rathee on Budget [2024](https://youtu.be/92cGK-pwgjY?si=-cwCxBZ_gvJC7tpL)\n",
        "  * YT Rahul Gandhi loksabha the [print](https://youtu.be/LRjOeBoiu4A?si=rOYAfeEB-JqRm1D3)\n",
        "  * YT BG2 [Episode 13](https://youtu.be/o9e1SDPc6Pc?si=1wvuTMDmZNqVLX2q)\n",
        "  * YT Nvidia Genseng MarkZuck [interview](https://youtu.be/w-cmMcMZoZ4?si=f1ImT9huxcx88y0F) and [Gensenge](https://www.youtube.com/live/H0WxJ7caZQU?si=DbALO176b6uNAwwW) interview\n"
      ],
      "metadata": {
        "id": "LJtxcdeO1htD"
      }
    },
    {
      "cell_type": "markdown",
      "source": [
        "**Jul 28, 2024**\n",
        "1. Sleep ✅:\n",
        "2. Learn : 1.5 hours before going for photo shoot of my Sun at beach\n",
        "3. Walk ✅:  \n",
        "4. Norp ✅:\n",
        "5. Food 🟠:\n",
        "  * Had Lunch at home boiled rice and omlette\n",
        "  * Had a Kind bar\n",
        "  * Had Dinner at Cheesecake Factory : Belaggio and red velvet cheesecake and fruit punch\n",
        "6. Media 🟠:\n",
        "  * YT Mark Zuck Llama3.1 [podcast](https://youtu.be/Vy3OkbtUa5k?si=7N91ywK3StT6w9fA)\n",
        "  * YT Software Engg in [2024](https://youtu.be/VpPPHDxR9aM?si=YiTarqndFS1qkSH7)"
      ],
      "metadata": {
        "id": "g8oSS9pFyBir"
      }
    },
    {
      "cell_type": "markdown",
      "source": [
        "**Jul 27, 2024** 1️⃣\n",
        "1. Sleep ✅: Slept 7 hours\n",
        "2. Learn ✅: 6 hours went on till 3AM\n",
        "3. Walk ✅: 10K evening with wife and son in the park.\n",
        "4. Norp ✅: After learn at 3 AM\n",
        "5. Food 🟠:\n",
        "  * Morning ate breakfast before starting to study Costco bread and avocado. Watched a standup for 3 hours and wasted time\n",
        "  * Ate left over biriyani from yesterday and boiled rice and dal after first 2 hour session of learn. After food went 10k walk\n",
        "  * came back did another 2 hours and did dinner boiled rice dal and chicken curry that cook had cooled and fruit salad\n",
        "  * Then after dinner did another 2 hours of learn\n",
        "6. Media 🟠:\n",
        "  * Duolingo Chinese\n",
        "  * YT Donald Trump and Joe Biden Kill [tony](https://youtu.be/ZgHR4ug866Q?si=17-J-WrGJSDy0C3Y)\n",
        "  * Libby Audiobook: Invent And Wander Jeff Bezos\n",
        "  * Libby Audiobook: Zucked\n",
        "  * Prime: Ryan Corner Standup"
      ],
      "metadata": {
        "id": "kt3eBWz6E4Bp"
      }
    },
    {
      "cell_type": "markdown",
      "source": [
        "**Jul 26, 2024**\n",
        "1. Sleep ✅: Slept 7 hours\n",
        "2. Learn 🟠: 2 hour\n",
        "3. Walk ✅: 10K\n",
        "4. Norp :\n",
        "5. Food 🔴:\n",
        "  * Went out to eat popmpano fish fry and biriyani at Brundavan restaurant\n",
        "6. Media✅:\n",
        "  * YT Yuval Noah [Harari](https://youtu.be/_eYDNcSYUCA?si=rcB4ELCC2-PISc_B)\n",
        "  * YT Nas Daily [Yuval](https://youtu.be/kZEUpph-RA4?si=oOFazPTSmXgmURG7)\n",
        "  * YT All In [EP189](https://youtu.be/UQBPUAgVuJA?si=DYAKoLfdUvA5QIoH)\n",
        "  * YT The print Naidu's white [paper](https://youtu.be/QsXTWvWeH4c?si=rTiomYuXKso42HkJ)    \n",
        "  * YT Google engineers on [Gemini](https://youtu.be/UUsVTEUfJAY?si=PHGQdEiqDVlE3HRn)\n",
        "  * YT Namanh Kapur How to get hired at [google](https://youtu.be/KB_7X3iIHQ4?si=F8cvqcyI2aOekhFD)\n",
        "  * YT Sundas Khalid How to get SWE at [Google](https://youtu.be/n8xMk-e_s1s?si=xqHAV8WE7vWoap3D), A day in the life of Googe DS and Why I left Data Eng for [DS](https://youtu.be/gOPohT1nT4k?si=jOqO3t7uz-R9X4fs)\n",
        "  * YT Jon your friend in [Tech](https://youtu.be/7G8xzbgRqUQ?si=UMdpUBMhmvhn4Ti7)\n",
        "  * YT The Kode School asking Google [engineers](https://youtu.be/cfG8deJwyC0?si=KMunJyOzx8mi2EkX)\n",
        "  * YT Fraz talk with Googe [recruiter](https://youtu.be/igfzqDO_9jE?si=2BbYtMs6nztbdvTL), how I craked [Google](https://youtu.be/YlP7CWpHgS4?si=owpHY1EsFVVoxAQD) and How I started [coding](https://youtu.be/NxvS-Uzjueg?si=g7fn12aCl-JAyNKf)  "
      ],
      "metadata": {
        "id": "sgZGyxN1-XKM"
      }
    },
    {
      "cell_type": "markdown",
      "source": [
        "**Jul 25, 2024** 1️⃣\n",
        "1. Sleep ✅: Slept 7 hours\n",
        "2. Learn ✅: 6 hour\n",
        "3. Walk ✅: 10K\n",
        "4. Norp ✅:\n",
        "5. Food ✅:\n",
        "  * Ate Break fast after first first session 2 hours of study\n",
        "  * Walked after second 2 hour session and heavy dinner and walked again\n",
        "  * Thirds 2 hour session after giving son a bath and puting him to sleep\n",
        "6. Media✅:\n",
        "  * YT The Print: Pak IMF [addiction](https://youtu.be/lD92-DhC7Rw?si=yHIILd7n1_cQjigh)  "
      ],
      "metadata": {
        "id": "VWFIcNJx-QNC"
      }
    },
    {
      "cell_type": "markdown",
      "source": [
        "**Jul 24, 2024**\n",
        "1. Sleep ✅: Slept 7 hours\n",
        "2. Learn 🟠: 1 hour\n",
        "3. Walk : 10K\n",
        "4. Norp 🔴:\n",
        "5. Food : Ate home made food but before finishing 6 hour study\n",
        "6. Media:\n",
        "  * YT How to bake Costco's [Rosemary](https://youtu.be/_N6d20uixq4?si=kQlePvfHh-PNFwr-) Bread\n",
        "  * YT Wiz passes on Google [TWIST](https://youtu.be/uljy6vadEFs?si=bwtd-7B2mKes8c_S)\n",
        "  * YT Neetcode why is everyone [lying](https://youtu.be/U_cSLPv34xk?si=udu-FGsac6f2ym9s)\n",
        "  * YT The dairy of a CEO Exercise [Neuroscientist](https://youtu.be/5o-tRub-0pQ?si=0OlS_T6Ox5daFWj5)\n",
        "  * YT Aakash shing cstandup: [Video1](https://youtu.be/fk3svL0GPWI?si=CZRZY-NAY-Ycq0Kv), [Video2](https://youtu.be/MSqQaCZvqJ8?si=JNpo8javU-PZBZeC), [Video3](https://youtu.be/p_HqJyq2SYU?si=7WTvtFjtv8Y2dbsV)\n",
        "  * YT Madhur Virli Standup: [IIT Dream](https://youtu.be/PPjYWaqCffQ?si=EdIg89G1dy_v8HYl)\n",
        "  * YT Harsh Gujral standup: 50 [Shades](https://youtu.be/YOiFzUXxTHc?si=L1R2bYn-OXjO4lmM)\n",
        "  * YT Varun Grover Standup: Shaadi [Election 2024 ](https://youtu.be/EYwNjMtGr6U?si=3kI4tC_9gTeBXaO6)"
      ],
      "metadata": {
        "id": "E_TIVmSL_Uya"
      }
    },
    {
      "cell_type": "markdown",
      "source": [
        "**Jul 23, 2024**\n",
        "1. Sleep ✅: Slept 7 hours\n",
        "2. Learn 🟠: 1 hour\n",
        "3. Walk : 10K\n",
        "4. Norp 🔴:\n",
        "5. Food : Ate home made food but before finishing 6 hour study\n",
        "6. Media:\n",
        "  * YT All in [Besties take Napa](https://youtu.be/xk4G-ImoSvw?si=WvwR94phAAQzBLFv)\n",
        "  * YT Mark Zuck Emily Chang Napa Valley Llama new launch [LLM](https://youtu.be/YuIc4mq7zMU?si=rFqNP3Aj0RIKVsCw)"
      ],
      "metadata": {
        "id": "dGIQdl8iCg-x"
      }
    },
    {
      "cell_type": "markdown",
      "source": [
        "**Jul 22, 2024**\n",
        "1. Sleep ✅: Slept 7 hours\n",
        "2. Learn 🟠: 4.5 hours couldnt do 6\n",
        "3. Walk ✅: Did 10K\n",
        "4. Norp :\n",
        "5. Food : Cook made fish and dal. Couldn't resist so had it when I had still 1.5 hours of Learn left\n",
        "6. Media :\n",
        "  * YT: How to undo in google [colab](https://youtu.be/6CLNDwCdM50?si=oeaYYxmcQOuU2DsF)\n",
        "  * YT: Joe Rogan [MrBeast](https://youtu.be/cLRLEnPaJLM?si=hv9dKV--hOh1vmc6).\n",
        "  * YT: Sidemen Speed [edition](https://youtu.be/m7YSTtiPMl4?si=TlG1Fiay5P09afdA)\n",
        "  * YT: Smita Prakash and Dr. Vikas Divyakirti [podcast](https://youtu.be/cuFEx-7Pth0?si=rPhzevBqTXQ7vy0U)  "
      ],
      "metadata": {
        "id": "Iq62meFmqZwy"
      }
    },
    {
      "cell_type": "markdown",
      "source": [
        "**Jul 20, 2024**\n",
        "1. Sleep 🔴: Tool phone to sleep wathced random YT videos\n",
        "2. Learn 🔴:\n",
        "3. Walk 🔴:\n",
        "4. Norp 🔴:\n",
        "5. Food 🔴:\n",
        "  * previous day dip impacted mood, health and kicked negative spiral.\n",
        "6. Media :\n",
        "  * Binje watched and finished 3 to 8 episodes of The Dropout\n",
        "  * YT [Displaced Amazon Tribe](https://youtu.be/QSzbUaJkV_0?si=HtaErebnMm2IFtpE)\n",
        "  * YT Stanford Noble Prize [Scandal](https://youtu.be/kzhcDh3tcS4?si=I1q9CA9hIlp1-imL)\n",
        "  * YT The Dropout's actor Naveen Andrew's sons [party](https://youtu.be/qJ_G71HNeCo?si=8z5q-rx9FNQwblhu)\n",
        "  * YT Biden drops out of [race](https://youtu.be/07du39HWd3M?si=iBAo5-U6bhmFKfYl)  \n",
        "  * YT Tanmay Bhat and Vicky [Kaushal](https://youtu.be/8E9XRKrKY9E?si=TL6_kWdCZ8UJSb74)\n",
        "  * YT RNC JD [vance](https://youtu.be/Q1hJAy8h2BU?si=BEs0ayr7seeT7bVM)\n",
        "  * YT The Print; [Rahul 3 questions](https://youtu.be/04H4xkJV3qE?si=_JBVTvMXZqjDwcnz)\n",
        "  * YT Mr. Beast 1M youtubers [fight](https://youtu.be/4SNThp0YiU4?si=RrLHZSzAQO0zBqL4)\n",
        "  * YT Logan Paul on MrBeast 1M fight [exit](https://youtu.be/JJXdlOKHJss?si=XM9Z8R9vA8xXV1sr)\n",
        "  * YT Dhruv Rathee response to Godhi [final](https://youtu.be/vVqhgfoFaDk?si=ODbtdwBksWmn1zxJ)\n",
        "  * YT CarryMinati [Vadapav](https://youtu.be/WX7DBPcsiEs?si=xGilztvJtPW7RjuJ), [Sigma](https://youtu.be/i2xxhRTs5Uc?si=TeOQ6we9F97YXVzh), [Daddy](https://youtu.be/xR9XBqI0zus?si=YY3UD0PKbOZvpjDF)\n",
        "  * YT Alex Rivera: Millionaire YT [house](https://youtu.be/yXSBiOJGq7I?si=-_UyMVr_mIrHnOsu), Rent [BF](https://youtu.be/cCqiqrMOhAk?si=XEceKkzzCEt50lzB)\n",
        "  * Duolingo chinese\n",
        "\n",
        "**Jul 20, 2024**\n",
        "1. Sleep ✅: Slept 6 hours\n",
        "2. Learn 🔴:\n",
        "3. Walk 🔴:\n",
        "4. Norp :\n",
        "5. Food 🔴:\n",
        "  * Couldn't get up early and finish six hours of study and had to visit two friends place one for dinner and one for lunch. after that late evening went to restaurant for dinner. Should have packed lunch at friends place and stuck to routind and planned better and complete 6 hours study in the morning.\n",
        "6. Media :\n",
        "  * Duolingo  \n"
      ],
      "metadata": {
        "id": "FrP-Kd9DkLZh"
      }
    },
    {
      "cell_type": "markdown",
      "source": [
        "**Jul 19, 2024**\n",
        "1. Sleep ✅: Slept at 3:30 AM and woke up at 5:30 AM. Did 5 hours went to bed without phone or airpods. Quality 5 hours. will makeup for the lost three hours the coming day.\n",
        "2. Learn ✅: Did 3.5 Hours before 6PM walk. Remaining 2.5 hours after 8PM ending at 12 AM. Had to give bath to son, and talk to family over phone in the middle.\n",
        "\n",
        "3. Walk ✅: Walked a lot today listening to All in podcast and solving Duolingo\n",
        "4. Norp ✅:\n",
        "5. Food ✅: Cook cooked palak dal and bhindi\n",
        "6. Media ✅:\n",
        "  * All in podcast on YT\n",
        "  * Watched Dropout Second episode while having my dinner OMAD at 2 AM\n"
      ],
      "metadata": {
        "id": "pWm2DXPf_Q9I"
      }
    },
    {
      "cell_type": "markdown",
      "source": [
        "**Jul 18, 2024**\n",
        "1. Sleep ✅: Slept for 7 hours inspite of the bad start due to bad previous day of junk food, watched random videos, didn't compelte the streak, took phone to bed watching youtube. But after sleeping at around 2:30 AM woke up at 10 AM so slepth for approx 7 hours\n",
        "2. Learn ✅:\n",
        "  * First hour when son was sleeping from 3pm to 4pm: Based on the failures to do a streak more than 2 days. From the learnings of failure did an intervention to fix the strategy for sure success going forward.\n",
        "  * Second hour by 5PM\n",
        "  * Remaining 4 hours from 8:14 PM to 1:40 PM. Had to get up few times to interact with wife and son.\n",
        "3. Walk ✅: Walked 10K with Rishiv and solved duolingo to come first in leaderboard. Heard how google works for few mins and later walked silently. 5:30 PM to 7:30 PM\n",
        "4. Norp ✅: 1:40 AM\n",
        "5. Food ✅: 2:00 AM\n",
        "  * Had three cups of tea and water during the day\n",
        "  * Wife ordered biriyani. Ate it, bad decision especially when doin OMAD since you get one chance to eat and you should feel good for fulll one day it is always best to go with the healthiest options\n",
        "6. Media ✅:\n",
        "  * Listened to: How Google Works Book by Eric Schmidt and Jonathan Rosenberg\n",
        "  * Duolingo Chinese\n",
        "  * Watched Dropout first episode while having my dinner OMAD at 2 AM\n"
      ],
      "metadata": {
        "id": "VYuNulK5FXsq"
      }
    },
    {
      "cell_type": "markdown",
      "source": [
        "**Intervention**  \n",
        "Observation on why I'm not able to do a streak for not more than two days:\n",
        "1. Thought of sleep early and getup early approach. but seems like with having job as knowledge worker having a strict schedule to go to bed and get up is almost impossible. Blockers like I'm not done with one of the day goals before the beginning of scheduled sleep time, some days you go out with friends and come home late, your wife has a hectic office week and she comes home really late pushing all your schedule out of the window causing lot of argument etc. So way too many problems to have a fixed sleeping schedule especially sleep early and get up early. So need to have a stratergy that is more flexible and addresses all the negatives of current strategy\n",
        "2. Food has become a huge one that I'm not able to follow to many confusion. There are times where there is no body to eat with and I'm hungry. Or I start the day with eating food and some time out of animal instincts go for the worst food such as office breakfast, chips, costco pizza, indian restaurant, uber eats, drive thru chickfila. Whole day goes in what to eat and worrying about that instead of really doing the most impartant task 6 hour focus study and work. After eating shit food it really screws all the progress not just for the day but also for future days and it is the trigger for the animal instincts to take over once I surrender to to food craving. Need to make the food rule simple enough to follow such that it doesent hamper other key tasks progress.\n",
        "\n",
        "**FROM:** MNF_SLW_Streaks to achieve QUADS\n",
        "\n",
        "Manage Blockers to achieve QUAD goal\n",
        "1.   Media - Document every audio and video consumed.\n",
        "  * Audiobooks\n",
        "  *Active learning videos only.\n",
        "  * Media forwarded by friends and family\n",
        "2.   Norp - Daily jalaka only\n",
        "3.   Food -\n",
        "  * **Whom?** Never eat alone.\n",
        "  * **What?** Never eat processed food. TIP: Eat organic and wholefood only. Biased heavily (99%) towards plant based food.\n",
        "  * **Where?** Biased heavily towards homecooked food (99%).Outside food only with friends and while traveling. But should still meet **Whom and What**\n",
        "  * **When?** 12PM to 1PM eating window. Rest of the time water.\n",
        "  * **Why?** For good nutrition to long healthy life. Not for indulgence, staisfying craving or stress eating.\n",
        "  * **How?** Max 2 meals and a snack. Initiatie dinner only, other meal and snack have only if others invite. TIP: If hungry do vipassana, intermittent fasting and drink water. Be mindful while eating. Focus on the food and the people with you.\n",
        "\n",
        "Promote Boosters to achieve Quad Goal\n",
        "1. Sleep - 7 hours without any gadget except iwatch from 9:30 PM to 4:30 AM\n",
        "2. Learn - 6 hours with vipassana focus\n",
        "3. Walk -  10,000 steps\n",
        "\n",
        "**TO:** Sequence_MNF_SLW_Streaks to achieve QUADS\n",
        "\n",
        "1. Sleep - 7 hours without any gadget except iwatch. Biased towards sleep early get up early 9:30 PM to 4:30 AM\n",
        "2. Learn - 6 hours with vipassana focus\n",
        "3. Walk - After Learn. 10,000 steps.\n",
        "4. Norp - After Walk. Daily jalaka only\n",
        "5. Food - After Walk.\n",
        "  * Biased towards Organic WholeFood, Fruits & Vegetables, HomeCooked,\n",
        "  * 3 litres of water, No processed food, Restaurant food only with friends and while traveling\n",
        "  * Biased towards OMAD. Max three eating sessions in a day.\n",
        "  * Biased towards having food with someone, worst case with Media following the guidelines\n",
        "6. Media - After Learn. Document every audio and video consumed.\n",
        "  * Audiobooks, Active learning Videos, and Media forwarded by friends and family\n",
        "  \n",
        "*The new plan is designed so that I can succesfully complete all the tasks to achieve my Quad goal daily addressing all the negatives of previous approach such as *\n",
        "* 1  * without stressing about day having activities that was not planned earlier *\n",
        "* 2 *Getting irritated with friends and family if they don't follow schedule*\n",
        "* 3 *How to cope eating disorder  making sure it doesn't hurt the progress*\n",
        "* 4 *Making sure things are prioiritzesd and sequenced such that lower priority activities don't overtake the highes prioirty ones*"
      ],
      "metadata": {
        "id": "gjCxtKQG1DU3"
      }
    },
    {
      "cell_type": "markdown",
      "source": [
        "**July 17, 2024**\n",
        "1. Media ✅:\n",
        "  * Audiobook: How Google Works Book by Eric Schmidt and Jonathan Rosenberg\n",
        "  * Duolingo: Chinese\n",
        "  * Wathced youtube:\n",
        "    * [ANI podcast with Smita prakash with Ola founder](https://youtu.be/PF6diktdNNE?si=xTNOD_54k6NT6tAT)\n",
        "    * Random stupid YT shorts\n",
        "      * @trendingHacks50: 21 shorts\n",
        "      * @reelin532: 2 shorts\n",
        "      * @radiointernational: 1 shorts\n",
        "      * @TheWorldsGreatestRoofer: 1 shorts\n",
        "      * @MaR_Leh: 2 shorts\n",
        "      * @kanupriya1707: 6 shorts\n",
        "      * @swiftiekey.com_: 1 shorts\n",
        "      * @SofiManassyan: 41 shorts\n",
        "      * @CelineDept: 35 shorts\n",
        "    * Standup comedy:\n",
        "        * Gaurav kapoors videos [Vid1](https://youtu.be/tVHeXfLKp2g?si=HO-5jrtkJiiwmpjB), [Vid2](https://youtu.be/CuWQ_8Qk9fs?si=oEKLKU4ecrm0o9jR)\n",
        "        * Mohit Morani's [video](https://youtu.be/VnZUlu2gWMs?si=uzoZBFicS66VrFxv)\n",
        "    * ABC7 news injured bay area hiker [video](https://youtu.be/QrhhWItw9_g?si=7wr19j3d8FnREqxl)\n",
        "    * Niladri kumar performance Ambani vedding Modi applause [video](https://youtu.be/IUWEeCvxtvs?si=V_DnlhyNG42YmoOl)\n",
        "    * Fire fighter breaks car window [Inside edition](https://youtu.be/vxeed7y6ohY?si=DOBALGPCGvP-2Lw1)\n",
        "    * Anuj Pachhel's why neet and jee toppers are bullied [video](https://youtu.be/x-2Zt1EE15Q?si=4JHc12UAO7vJtyKD)\n",
        "    * Brut India [Vid1 IAS officer](https://youtu.be/6PAr0RgSFzE?si=5582ZmqEp12sx-32) and [Vid2 Student reddit confession](https://youtu.be/rYb4JNGShOM?si=V4oBgHqyjBv36qZX)\n",
        "2. Norp ✅: Took jalaka at noon\n",
        "3. Food 🔴:\n",
        "  * Horrible day for food: With all the shit videos watching ate 3 meals\n",
        "  * Ate a lot of snacks: moong dal, chana dal, dry fruits\n",
        "  * Had a huge craving to order, had lost control almost: But because of this documentation approach some how managed to convinve myself to shop at Costco and alteast finish that task if I'm not able to study. So got 2 slice of pizza and hotdog. So this saved the day from getting even more shittier.\n",
        "  * This also spoiled the way I went to sleep was so out of control took my phone to sleep watching youtube podcasts, had a really bad sleep start for the next day\n",
        "___\n",
        "1. Sleep ✅:\n",
        "  * slept for 9 hours\n",
        "2. Learn ✅:\n",
        "  * Did study for 6 hours\n",
        "3. Walk ✅: Walked with wife and son and later alone to complete 10K"
      ],
      "metadata": {
        "id": "MVYsw4VyuJH-"
      }
    },
    {
      "cell_type": "markdown",
      "source": [
        "**July 16, 2024**\n",
        "1. Media 🔴:\n",
        "  * Audiobook: How Google Works Book by Eric Schmidt and Jonathan Rosenberg\n",
        "  * Watched [TWIST on youtube](https://youtu.be/Mn45G7Ex9PU?si=1L1MzH6wYBUka2G0)\n",
        "  * Duolingo: Chinese\n",
        "2. Norp ✅: Took jalaka at noon\n",
        "3. Food 🔴:\n",
        "  * Broke the rule: Ate food at noon watching TWIST and started justfying that is a good thing\n",
        "___\n",
        "1. Sleep ✅:\n",
        "  * slept for 9 hours\n",
        "2. Learn ✅:\n",
        "  * Did study for 6 hours\n",
        "3. Walk ✅: Walked with wife and son and later alone to complete 10K"
      ],
      "metadata": {
        "id": "9D3pYiKMtIzk"
      }
    },
    {
      "cell_type": "markdown",
      "source": [
        "**July 15, 2024**\n",
        "1. Media ✅:\n",
        "  * Audiobook: How Google Works Book by Eric Schmidt and Jonathan Rosenberg\n",
        "  * Duolingo: Chinese and Spanish.\n",
        "\n",
        "2. Norp ✅: Took jalaka after cleaning house, after coming back from Fedex and Puranpoli restaurant at 8PM\n",
        "3. Food 🔴:\n",
        "  * Broke the rule: Ate nonnies and coffe in the morning after getting up alone.\n",
        "  * Broke the rule: Went to office had breakfast and coffee alone and the carb processed food heavy. Really added huge barrier to effective study\n",
        "  * Broke the rule: After starting the day bad went twards downward spiral with heavy salad lunch with potato chips.\n",
        "  * Went to Fedex with wife and son , later ended up going out to eat and ate misal pav and vada pav. The whole day was junk. So finally forced me to reform food habit.\n",
        "\n",
        "___\n",
        "1. Sleep ✅:\n",
        "  * slept for 7 hours plus. Started sleeping early and getting up early after 7 hours and going to sleep without gadget reallly worked well\n",
        "2. Learn 🟠: Did 6 hours but need to be more focused.\n",
        "  * Correcting few errors to make this MNF_SLW streak longer, like going to sleep without gadget and sleep time to make sure get up early\n",
        "  * Sleeping early to start the good habit\n",
        "3. Walk ✅: Walked along with Duolingo to come first in the leader board gold that was ending today"
      ],
      "metadata": {
        "id": "NdIsP3rJq_22"
      }
    },
    {
      "cell_type": "markdown",
      "source": [
        "**July 14, 2024**\n",
        "1. Media ✅:\n",
        "  * Audiobook: How Google Works Book by Eric Schmidt and Jonathan Rosenberg\n",
        "  * Duolingo: Chinese and Spanish. Did for hours to come first in leaderboard\n",
        "  * Saw a few short videos less than a min by mistake in linkedin.\n",
        "\n",
        "2. Norp ✅: Took jalaka after cleaning house and walking\n",
        "3. Food ✅:\n",
        "  * cleaned the kitchen and had Lunch: ate boiled rice, pickle, curd, dal, tea, moong dal snack, Nonnies thins with wife and son\n",
        "  * Had coconut water with wife and son\n",
        "\n",
        "___\n",
        "1. Sleep ✅:\n",
        "  * slept for 7 hours plus, started sleep\n",
        "2. Learn 🟠:\n",
        "  * Correcting few errors to make this MNF_SLW streak longer, like going to sleep without gadget and sleep time to make sure get up early\n",
        "  * Sleeping early to start the good habit\n",
        "3. Walk ✅: Walked along with Duolingo to come first in the leader board gold that was ending today"
      ],
      "metadata": {
        "id": "idOa1BXOHAmg"
      }
    },
    {
      "cell_type": "markdown",
      "source": [
        "**July 13, 2024**\n",
        "1. Media 🟠:\n",
        "  * Audiobook: How Google Works Book by Eric Schmidt and Jonathan Rosenberg\n",
        "  * Duolingo: Chinese and Spanish\n",
        "  * Saw few videos on Amazon to by walker and head fall protector for Rishiv\n",
        "  * [Saw Full All In Episode 187 ](https://www.youtube.com/watch?v=w30WLkNU47g&ab_channel=All-InPodcast)\n",
        "  * Saw frist few minutes of [All In Interview](https://www.youtube.com/watch?v=-l2TdinWoM8&ab_channel=All-InPodcast)\n",
        "  * Watched two to three less than 5 mins videos of Trump incident news\n",
        "  * Watched popular videos of Sammy Obeid stand up comedian on youtube late night instead of sleeping. Regret it don't repeat. Don't take gadget to bedroom. fro, today.\n",
        "  * Attended RV Alumni Connect is Computer History Museum. Anil Kumble was the guest. Met many friends from 2012 batch and also got to see the huge Alumni crowd.\n",
        "  * Watched and shared few videos of Baby first time in the swimming pool.\n",
        "  * Watched video of a cyprus youtuber who won election in Cyprus\n",
        "\n",
        "2. Norp ✅:\n",
        "3. Food ✅:\n",
        "  * Cooked potatoes and beand sabji for my wife\n",
        "  * Ate with my engeneering college friends at RVCE alumni connect\n",
        "  * Came back and had lichi, mango and milk with turmeric with my wife and son\n",
        "\n",
        "___\n",
        "1. Sleep ✅:\n",
        "  * slept for 7 hours plus but started to sleep badly by watching some YT videos. Have had bad habits of wathcing videos and audio on bed until fallen asleep. ending it today.\n",
        "2. Learn 🟠:\n",
        "  * Could only do 1 hour since wokeup late and in the eveing had to attend Anil Kumble gues RVCE alumni connect event\n",
        "3. Walk 🟠: Walked very few steps"
      ],
      "metadata": {
        "id": "FeEm69o0--9H"
      }
    },
    {
      "cell_type": "markdown",
      "source": [
        "**July 12, 2024**\n",
        "1. Media ✅:\n",
        "  * Audiobook: How Google Works Book by Eric Schmidt and Jonathan Rosenberg\n",
        "  * Duolingo: Chinese and Spanish\n",
        "  * Saw few videos on Amazon to by walker and head fall protector for Rishiv\n",
        "  * [Saw Full All In Episode 187 ](https://www.youtube.com/watch?v=w30WLkNU47g&ab_channel=All-InPodcast)\n",
        "  * Saw frist few minutes of [All In Interview](https://www.youtube.com/watch?v=-l2TdinWoM8&ab_channel=All-InPodcast)\n",
        "2. Norp :\n",
        "3. Food ✅:\n",
        "  * Breakfast: Tea, Avocado toast with wife and son.\n",
        "  * Dinner with Ranjita and Son: Dal, egg fried rice, curd, sauce, dry nuts, coconut water, tea and ground nut\n",
        "\n",
        "___\n",
        "1. Sleep ✅:\n",
        "  * Slept at 3 AM and woke up at 9 AM.\n",
        "  * Took 15 minute nap from 10:30 AM to 10L45 AM\n",
        "2. Learn ✅:\n",
        "  * Did 4 hours in office and 2 hors at home\n",
        "3. Walk ✅: Walked more than 12K today"
      ],
      "metadata": {
        "id": "CX04F9q6eZG4"
      }
    },
    {
      "cell_type": "markdown",
      "source": [
        "**July 11, 2024**\n",
        "1. Media ✅:\n",
        "  * Audiobook: Started: How Google Works Book by Eric Schmidt and Jonathan Rosenberg\n",
        "  * Duolingo: Chinese and Spanish\n",
        "2. Norp ✅: Took bath late at 2:30 AM .|.\n",
        "3. Food ✅:\n",
        "  * Breakfast Avocado toast with wife and son.\n",
        "  * 1PM lunch: customized Dindigal's mutton sukha, curd and boiled rice\n",
        "  * 6PM Maggi and jeera coffee\n",
        "  * 10:30 PM Dinner: Shezwan fried rice, curd and boiled rice\n",
        "___\n",
        "1. Sleep ✅: Slept at 1 AM and woke up at 9 AM\n",
        "2. Learn ✅: Struggled to sit but completed 6 hours by 2:30 AM\n",
        "  * completed working on year end summary form summarizing my work at company\n",
        "3. Walk ✅: Night 9:30 PM"
      ],
      "metadata": {
        "id": "FmAEVPPoQAl0"
      }
    },
    {
      "cell_type": "markdown",
      "source": [
        "**July 10, 2024**\n",
        "1. Media ✅:\n",
        "  * Audio book: Completed: Amazon Unbound: Jeff Bezos and the Invention of a Global Empire\n",
        "  * Audiobook: Started: Einstein: His Life and Universe by Walter Isaacson\n",
        "  * Duolingo: Chinese and Spanish\n",
        "2. Norp ✅: Took bath late in the evening 8AM after birthday celebration .|.\n",
        "3. Food ✅:\n",
        "  * Breakfast Avocado toast with wife and son.\n",
        "  * 5PM lunch potatoe and asparagus fry and boiled rice curd. Ate with wife and son\n",
        "  * 9:30 PM Dinner: Wife's birthday ordered from outside. Chicken lollypop, Shezwan fried rice, boiled rice curd and mutton sukha\n",
        "___\n",
        "1. Sleep ✅: Slept at 3:00 AM and woke up at 10:00 AM\n",
        "2. Learn 🟠:\n",
        "  * working on year end summary form summarizing my work at company\n",
        "3. Walk ✅: Walked 12PM when the baby was sleeping\n",
        "\n",
        "\n",
        "\n",
        "\n",
        "\n",
        "\n",
        "\n",
        "\n"
      ],
      "metadata": {
        "id": "P9X8z6uLSj-s"
      }
    },
    {
      "cell_type": "markdown",
      "source": [
        "**July 9, 2024**\n",
        "1. Media ✅:\n",
        "  * Audio book: Amazon Unbound: Jeff Bezos and the Invention of a Global Empire\n",
        "  * YT: Akyan: One handed ✋🏻 shoe 👟 lace tying on Youtube\n",
        "  * Duolingo: Chinese and Spanish\n",
        "2. Norp ✅: Took bath late in the night 2AM after birthday celebration .|.\n",
        "3. Food ✅:\n",
        "  * Breakfast Avocado toast with wife and son.\n",
        "  * Banana Dates milkshake and Nonnies Nonni's THINaddictives Almond Thin Cookies with wife and son.\n",
        "  * Dinner: Chicken sukha, Egg Burji, Beans Mushroom, Boiled Rice, Curd, Mint chutney with wife and son. Dates with cashew and almond inside\n",
        "  * Celebrated Wife's birthday, midnight cake cutting and pringles\n",
        "___\n",
        "1. Sleep ✅: Slept at 1:30 AM and woke up at 8:30 AM\n",
        "2. Learn ✅:\n",
        "  * Nannie was there and could study. Setup colab notebook to document MNF_SLW to achieve QUAD goals\n",
        "3. Walk ✅: Evening walk before dinner\n",
        "\n",
        "\n"
      ],
      "metadata": {
        "id": "_vPZeDQ-qv5C"
      }
    }
  ]
}